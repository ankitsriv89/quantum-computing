{
 "cells": [
  {
   "cell_type": "code",
   "execution_count": 6,
   "id": "cd3b7e51",
   "metadata": {},
   "outputs": [],
   "source": [
    "from qiskit import QuantumRegister, ClassicalRegister, QuantumCircuit, Aer\n",
    "from numpy import pi\n",
    "\n"
   ]
  },
  {
   "cell_type": "code",
   "execution_count": 3,
   "id": "9e8b1e15",
   "metadata": {},
   "outputs": [
    {
     "data": {
      "text/html": [
       "<pre style=\"word-wrap: normal;white-space: pre;background: #fff0;line-height: 1.1;font-family: &quot;Courier New&quot;,Courier,monospace\">                        ┌───┐                ░ ┌─┐         \n",
       "q_0: ────────|0>────────┤ H ├──■─────────────░─┤M├─────────\n",
       "     ┌─────────────────┐└───┘  │             ░ └╥┘┌─┐      \n",
       "q_1: ┤ Initialize(0,1) ├───────┼────■────────░──╫─┤M├──────\n",
       "     └─────────────────┘┌───┐  │    │        ░  ║ └╥┘┌─┐   \n",
       "q_2: ────────|0>────────┤ H ├──┼────■────■───░──╫──╫─┤M├───\n",
       "     ┌─────────────────┐└───┘┌─┴─┐┌─┴─┐┌─┴─┐ ░  ║  ║ └╥┘┌─┐\n",
       "q_3: ┤ Initialize(0,1) ├─────┤ X ├┤ X ├┤ X ├─░──╫──╫──╫─┤M├\n",
       "     └─────────────────┘     └───┘└───┘└───┘ ░  ║  ║  ║ └╥┘\n",
       "c: 4/═══════════════════════════════════════════╩══╩══╩══╩═\n",
       "                                                0  1  2  3 </pre>"
      ],
      "text/plain": [
       "                        ┌───┐                ░ ┌─┐         \n",
       "q_0: ────────|0>────────┤ H ├──■─────────────░─┤M├─────────\n",
       "     ┌─────────────────┐└───┘  │             ░ └╥┘┌─┐      \n",
       "q_1: ┤ Initialize(0,1) ├───────┼────■────────░──╫─┤M├──────\n",
       "     └─────────────────┘┌───┐  │    │        ░  ║ └╥┘┌─┐   \n",
       "q_2: ────────|0>────────┤ H ├──┼────■────■───░──╫──╫─┤M├───\n",
       "     ┌─────────────────┐└───┘┌─┴─┐┌─┴─┐┌─┴─┐ ░  ║  ║ └╥┘┌─┐\n",
       "q_3: ┤ Initialize(0,1) ├─────┤ X ├┤ X ├┤ X ├─░──╫──╫──╫─┤M├\n",
       "     └─────────────────┘     └───┘└───┘└───┘ ░  ║  ║  ║ └╥┘\n",
       "c: 4/═══════════════════════════════════════════╩══╩══╩══╩═\n",
       "                                                0  1  2  3 "
      ]
     },
     "execution_count": 3,
     "metadata": {},
     "output_type": "execute_result"
    }
   ],
   "source": [
    "qreg_q = QuantumRegister(4, 'q')\n",
    "creg_c = ClassicalRegister(4, 'c')\n",
    "circuit = QuantumCircuit(qreg_q, creg_c)\n",
    "\n",
    "circuit.reset(qreg_q[0])\n",
    "circuit.reset(qreg_q[2])\n",
    "circuit.initialize([0,1], qreg_q[1])\n",
    "circuit.initialize([0,1], qreg_q[3])\n",
    "circuit.h(qreg_q[0])\n",
    "circuit.h(qreg_q[2])\n",
    "circuit.cx(qreg_q[0], qreg_q[3])\n",
    "circuit.ccx(qreg_q[1], qreg_q[2], qreg_q[3])\n",
    "circuit.cx(qreg_q[2], qreg_q[3])\n",
    "\n",
    "circuit.barrier(qreg_q[2], qreg_q[0], qreg_q[1], qreg_q[3])\n",
    "circuit.measure(qreg_q[0], creg_c[0])\n",
    "circuit.measure(qreg_q[1], creg_c[1])\n",
    "circuit.measure(qreg_q[2], creg_c[2])\n",
    "circuit.measure(qreg_q[3], creg_c[3])\n",
    "\n",
    "circuit.draw()"
   ]
  },
  {
   "cell_type": "code",
   "execution_count": 8,
   "id": "6d13b442",
   "metadata": {},
   "outputs": [
    {
     "name": "stdout",
     "output_type": "stream",
     "text": [
      "[0.+0.j 0.+0.j 0.+0.j 0.+0.j 0.+0.j 0.+0.j 0.+0.j 0.+0.j 0.+0.j 0.+0.j\n",
      " 1.+0.j 0.+0.j 0.+0.j 0.+0.j 0.+0.j 0.+0.j]\n"
     ]
    }
   ],
   "source": [
    "# Run the quantum circuit on a statevector simulator backend\n",
    "backend = Aer.get_backend('statevector_simulator')\n",
    "job = backend.run(circuit)\n",
    "result = job.result()\n",
    "outputstate = result.get_statevector(circuit, decimals=3)\n",
    "print(outputstate)"
   ]
  },
  {
   "cell_type": "code",
   "execution_count": 9,
   "id": "8a54ae1f",
   "metadata": {},
   "outputs": [
    {
     "data": {
      "text/plain": [
       "16"
      ]
     },
     "execution_count": 9,
     "metadata": {},
     "output_type": "execute_result"
    }
   ],
   "source": [
    "len(outputstate)"
   ]
  },
  {
   "cell_type": "code",
   "execution_count": null,
   "id": "8646617f",
   "metadata": {},
   "outputs": [],
   "source": []
  }
 ],
 "metadata": {
  "kernelspec": {
   "display_name": "Python 3 (ipykernel)",
   "language": "python",
   "name": "python3"
  },
  "language_info": {
   "codemirror_mode": {
    "name": "ipython",
    "version": 3
   },
   "file_extension": ".py",
   "mimetype": "text/x-python",
   "name": "python",
   "nbconvert_exporter": "python",
   "pygments_lexer": "ipython3",
   "version": "3.7.11"
  }
 },
 "nbformat": 4,
 "nbformat_minor": 5
}
