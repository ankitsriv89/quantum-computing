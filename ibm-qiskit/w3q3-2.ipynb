{
 "cells": [
  {
   "cell_type": "code",
   "execution_count": 1,
   "id": "87a77eee",
   "metadata": {},
   "outputs": [],
   "source": [
    "from qiskit import QuantumRegister, ClassicalRegister, QuantumCircuit,Aer,assemble\n",
    "from numpy import pi"
   ]
  },
  {
   "cell_type": "code",
   "execution_count": 9,
   "id": "0c71363e",
   "metadata": {},
   "outputs": [
    {
     "data": {
      "text/html": [
       "<pre style=\"word-wrap: normal;white-space: pre;background: #fff0;line-height: 1.1;font-family: &quot;Courier New&quot;,Courier,monospace\">           ░ ┌───┐           ░ ┌───┐ ░ ┌─┐         \n",
       "q_0: ─|0>──░─┤ H ├──■────────░─┤ H ├─░─┤M├─────────\n",
       "           ░ ├───┤  │        ░ ├───┤ ░ └╥┘┌─┐      \n",
       "q_1: ─|0>──░─┤ H ├──┼────────░─┤ H ├─░──╫─┤M├──────\n",
       "           ░ ├───┤  │        ░ ├───┤ ░  ║ └╥┘┌─┐   \n",
       "q_2: ─|0>──░─┤ H ├──┼────■───░─┤ H ├─░──╫──╫─┤M├───\n",
       "     ┌───┐ ░ ├───┤┌─┴─┐┌─┴─┐ ░ └───┘ ░  ║  ║ └╥┘┌─┐\n",
       "q_3: ┤ X ├─░─┤ H ├┤ X ├┤ X ├─░───────░──╫──╫──╫─┤M├\n",
       "     └───┘ ░ └───┘└───┘└───┘ ░       ░  ║  ║  ║ └╥┘\n",
       "c: 4/═══════════════════════════════════╩══╩══╩══╩═\n",
       "                                        0  1  2  3 </pre>"
      ],
      "text/plain": [
       "           ░ ┌───┐           ░ ┌───┐ ░ ┌─┐         \n",
       "q_0: ─|0>──░─┤ H ├──■────────░─┤ H ├─░─┤M├─────────\n",
       "           ░ ├───┤  │        ░ ├───┤ ░ └╥┘┌─┐      \n",
       "q_1: ─|0>──░─┤ H ├──┼────────░─┤ H ├─░──╫─┤M├──────\n",
       "           ░ ├───┤  │        ░ ├───┤ ░  ║ └╥┘┌─┐   \n",
       "q_2: ─|0>──░─┤ H ├──┼────■───░─┤ H ├─░──╫──╫─┤M├───\n",
       "     ┌───┐ ░ ├───┤┌─┴─┐┌─┴─┐ ░ └───┘ ░  ║  ║ └╥┘┌─┐\n",
       "q_3: ┤ X ├─░─┤ H ├┤ X ├┤ X ├─░───────░──╫──╫──╫─┤M├\n",
       "     └───┘ ░ └───┘└───┘└───┘ ░       ░  ║  ║  ║ └╥┘\n",
       "c: 4/═══════════════════════════════════╩══╩══╩══╩═\n",
       "                                        0  1  2  3 "
      ]
     },
     "execution_count": 9,
     "metadata": {},
     "output_type": "execute_result"
    }
   ],
   "source": [
    "qreg_q = QuantumRegister(4, 'q')\n",
    "creg_c = ClassicalRegister(4, 'c')\n",
    "circuit = QuantumCircuit(qreg_q, creg_c)\n",
    "\n",
    "circuit.reset(qreg_q[0])\n",
    "circuit.reset(qreg_q[1])\n",
    "circuit.reset(qreg_q[2])\n",
    "circuit.x(qreg_q[3])\n",
    "circuit.barrier(qreg_q[0], qreg_q[1], qreg_q[2], qreg_q[3])\n",
    "circuit.h(qreg_q[3])\n",
    "circuit.h(qreg_q[0])\n",
    "circuit.h(qreg_q[1])\n",
    "circuit.h(qreg_q[2])\n",
    "circuit.cx(qreg_q[0], qreg_q[3])\n",
    "\n",
    "\n",
    "circuit.cx(qreg_q[2], qreg_q[3])\n",
    "circuit.barrier(qreg_q[0], qreg_q[1], qreg_q[2], qreg_q[3])\n",
    "circuit.h(qreg_q[0])\n",
    "circuit.h(qreg_q[1])\n",
    "circuit.h(qreg_q[2])\n",
    "circuit.barrier(qreg_q[0], qreg_q[1], qreg_q[2], qreg_q[3])\n",
    "q0 = circuit.measure(qreg_q[0], creg_c[0])\n",
    "q1 = circuit.measure(qreg_q[1], creg_c[1])\n",
    "q2 = circuit.measure(qreg_q[2], creg_c[2])\n",
    "\n",
    "circuit.measure(qreg_q[3], creg_c[3])\n",
    "circuit.draw()"
   ]
  },
  {
   "cell_type": "code",
   "execution_count": 10,
   "id": "996548b1",
   "metadata": {},
   "outputs": [
    {
     "data": {
      "text/plain": [
       "array([ 0.+0.000000e+00j,  0.+0.000000e+00j,  0.+0.000000e+00j,\n",
       "        0.+0.000000e+00j,  0.+0.000000e+00j,  0.+0.000000e+00j,\n",
       "       -0.+0.000000e+00j,  0.+0.000000e+00j,  0.+0.000000e+00j,\n",
       "        0.+0.000000e+00j,  0.+0.000000e+00j,  0.+0.000000e+00j,\n",
       "        0.+0.000000e+00j, -1.+3.061617e-16j,  0.+0.000000e+00j,\n",
       "        0.+0.000000e+00j])"
      ]
     },
     "execution_count": 10,
     "metadata": {},
     "output_type": "execute_result"
    }
   ],
   "source": [
    "sv_sim = Aer.get_backend('aer_simulator')\n",
    "circuit.save_statevector()\n",
    "qobj = assemble(circuit)\n",
    "job = sv_sim.run(qobj)\n",
    "ket = job.result().get_statevector()\n",
    "ket"
   ]
  },
  {
   "cell_type": "code",
   "execution_count": 11,
   "id": "603e3372",
   "metadata": {},
   "outputs": [
    {
     "name": "stdout",
     "output_type": "stream",
     "text": [
      "{'1101': 521, '0101': 503}\n"
     ]
    }
   ],
   "source": [
    "hist = job.result().get_counts()\n",
    "print(hist)"
   ]
  },
  {
   "cell_type": "code",
   "execution_count": 12,
   "id": "399a1cb2",
   "metadata": {},
   "outputs": [
    {
     "data": {
      "image/png": "[encoded data removed]",
      "text/plain": [
       "<Figure size 504x360 with 1 Axes>"
      ]
     },
     "execution_count": 12,
     "metadata": {},
     "output_type": "execute_result"
    },
    {
     "data": {
      "image/png": "[encoded data removed]",
      "text/plain": [
       "<Figure size 504x360 with 1 Axes>"
      ]
     },
     "metadata": {
      "needs_background": "light"
     },
     "output_type": "display_data"
    }
   ],
   "source": [
    "from qiskit.visualization import plot_histogram\n",
    "\n",
    "plot_histogram(hist)"
   ]
  },
  {
   "cell_type": "code",
   "execution_count": null,
   "id": "ee4b6600",
   "metadata": {},
   "outputs": [],
   "source": []
  }
 ],
 "metadata": {
  "kernelspec": {
   "display_name": "Python 3 (ipykernel)",
   "language": "python",
   "name": "python3"
  },
  "language_info": {
   "codemirror_mode": {
    "name": "ipython",
    "version": 3
   },
   "file_extension": ".py",
   "mimetype": "text/x-python",
   "name": "python",
   "nbconvert_exporter": "python",
   "pygments_lexer": "ipython3",
   "version": "3.7.11"
  }
 },
 "nbformat": 4,
 "nbformat_minor": 5
}
