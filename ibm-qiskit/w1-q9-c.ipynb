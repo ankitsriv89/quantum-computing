{
 "cells": [
  {
   "cell_type": "code",
   "execution_count": 1,
   "id": "619b7093",
   "metadata": {},
   "outputs": [],
   "source": [
    "from qiskit import QuantumRegister, ClassicalRegister, QuantumCircuit, Aer\n",
    "from numpy import pi"
   ]
  },
  {
   "cell_type": "code",
   "execution_count": 6,
   "id": "5b3ad164",
   "metadata": {},
   "outputs": [
    {
     "data": {
      "text/plain": [
       "<qiskit.circuit.instructionset.InstructionSet at 0x12e7337dd88>"
      ]
     },
     "execution_count": 6,
     "metadata": {},
     "output_type": "execute_result"
    }
   ],
   "source": [
    "qreg_q = QuantumRegister(2, 'q')\n",
    "creg_c = ClassicalRegister(2, 'c')\n",
    "circuit = QuantumCircuit(qreg_q, creg_c)\n",
    "\n",
    "circuit.cx(qreg_q[0], qreg_q[1])\n",
    "circuit.y(qreg_q[1])\n",
    "circuit.cx(qreg_q[0], qreg_q[1])"
   ]
  },
  {
   "cell_type": "code",
   "execution_count": 7,
   "id": "04bcc8e3",
   "metadata": {},
   "outputs": [
    {
     "data": {
      "text/html": [
       "<pre style=\"word-wrap: normal;white-space: pre;background: #fff0;line-height: 1.1;font-family: &quot;Courier New&quot;,Courier,monospace\">                    \n",
       "q_0: ──■─────────■──\n",
       "     ┌─┴─┐┌───┐┌─┴─┐\n",
       "q_1: ┤ X ├┤ Y ├┤ X ├\n",
       "     └───┘└───┘└───┘\n",
       "c: 2/═══════════════\n",
       "                    </pre>"
      ],
      "text/plain": [
       "                    \n",
       "q_0: ──■─────────■──\n",
       "     ┌─┴─┐┌───┐┌─┴─┐\n",
       "q_1: ┤ X ├┤ Y ├┤ X ├\n",
       "     └───┘└───┘└───┘\n",
       "c: 2/═══════════════\n",
       "                    "
      ]
     },
     "execution_count": 7,
     "metadata": {},
     "output_type": "execute_result"
    }
   ],
   "source": [
    "circuit.draw()"
   ]
  },
  {
   "cell_type": "code",
   "execution_count": 8,
   "id": "be008522",
   "metadata": {},
   "outputs": [],
   "source": [
    "# Run the quantum circuit on a statevector simulator backend\n",
    "backend = Aer.get_backend('statevector_simulator')"
   ]
  },
  {
   "cell_type": "code",
   "execution_count": 9,
   "id": "9f8dbab1",
   "metadata": {},
   "outputs": [
    {
     "name": "stdout",
     "output_type": "stream",
     "text": [
      "[0.-0.j 0.+0.j 0.+1.j 0.-0.j]\n"
     ]
    }
   ],
   "source": [
    "# Create a Quantum Program for execution\n",
    "job = backend.run(circuit)\n",
    "result = job.result()\n",
    "outputstate = result.get_statevector(circuit, decimals=3)\n",
    "print(outputstate)"
   ]
  },
  {
   "cell_type": "code",
   "execution_count": null,
   "id": "5612524f",
   "metadata": {},
   "outputs": [],
   "source": []
  },
  {
   "cell_type": "code",
   "execution_count": 11,
   "id": "e869fb2d",
   "metadata": {},
   "outputs": [
    {
     "data": {
      "text/html": [
       "<pre style=\"word-wrap: normal;white-space: pre;background: #fff0;line-height: 1.1;font-family: &quot;Courier New&quot;,Courier,monospace\">     ┌───┐\n",
       "q_0: ┤ Y ├\n",
       "     ├───┤\n",
       "q_1: ┤ Y ├\n",
       "     └───┘\n",
       "c: 2/═════\n",
       "          </pre>"
      ],
      "text/plain": [
       "     ┌───┐\n",
       "q_0: ┤ Y ├\n",
       "     ├───┤\n",
       "q_1: ┤ Y ├\n",
       "     └───┘\n",
       "c: 2/═════\n",
       "          "
      ]
     },
     "execution_count": 11,
     "metadata": {},
     "output_type": "execute_result"
    }
   ],
   "source": [
    "qreg_q2 = QuantumRegister(2, 'q')\n",
    "creg_c2 = ClassicalRegister(2, 'c')\n",
    "circuit2 = QuantumCircuit(qreg_q2, creg_c2)\n",
    "\n",
    "circuit2.y(qreg_q2[0])\n",
    "circuit2.y(qreg_q2[1])\n",
    "circuit2.draw()"
   ]
  },
  {
   "cell_type": "code",
   "execution_count": 12,
   "id": "432f7446",
   "metadata": {},
   "outputs": [],
   "source": [
    "# Run the quantum circuit on a statevector simulator backend\n",
    "backend2 = Aer.get_backend('statevector_simulator')"
   ]
  },
  {
   "cell_type": "code",
   "execution_count": 13,
   "id": "afaf29ed",
   "metadata": {},
   "outputs": [
    {
     "name": "stdout",
     "output_type": "stream",
     "text": [
      "[-0.+0.j  0.-0.j  0.+0.j -1.+0.j]\n"
     ]
    }
   ],
   "source": [
    "# Create a Quantum Program for execution\n",
    "job2 = backend2.run(circuit2)\n",
    "result2 = job2.result()\n",
    "outputstate2 = result2.get_statevector(circuit2, decimals=3)\n",
    "print(outputstate2)"
   ]
  },
  {
   "cell_type": "code",
   "execution_count": null,
   "id": "a5f94830",
   "metadata": {},
   "outputs": [],
   "source": []
  },
  {
   "cell_type": "markdown",
   "id": "a9bfd7e1",
   "metadata": {},
   "source": [
    "optin-d"
   ]
  },
  {
   "cell_type": "code",
   "execution_count": 14,
   "id": "0127cc31",
   "metadata": {},
   "outputs": [
    {
     "data": {
      "text/html": [
       "<pre style=\"word-wrap: normal;white-space: pre;background: #fff0;line-height: 1.1;font-family: &quot;Courier New&quot;,Courier,monospace\">     ┌───┐\n",
       "q_0: ┤ Z ├\n",
       "     ├───┤\n",
       "q_1: ┤ Y ├\n",
       "     └───┘\n",
       "c: 2/═════\n",
       "          </pre>"
      ],
      "text/plain": [
       "     ┌───┐\n",
       "q_0: ┤ Z ├\n",
       "     ├───┤\n",
       "q_1: ┤ Y ├\n",
       "     └───┘\n",
       "c: 2/═════\n",
       "          "
      ]
     },
     "execution_count": 14,
     "metadata": {},
     "output_type": "execute_result"
    }
   ],
   "source": [
    "qreg_q3 = QuantumRegister(2, 'q')\n",
    "creg_c3 = ClassicalRegister(2, 'c')\n",
    "circuit3 = QuantumCircuit(qreg_q3, creg_c3)\n",
    "\n",
    "circuit3.y(qreg_q3[1])\n",
    "circuit3.z(qreg_q3[0])\n",
    "circuit3.draw() "
   ]
  },
  {
   "cell_type": "code",
   "execution_count": 15,
   "id": "2935cc7b",
   "metadata": {},
   "outputs": [],
   "source": [
    "# Run the quantum circuit on a statevector simulator backend\n",
    "backend3 = Aer.get_backend('statevector_simulator')"
   ]
  },
  {
   "cell_type": "code",
   "execution_count": 16,
   "id": "b0c3c15a",
   "metadata": {},
   "outputs": [
    {
     "name": "stdout",
     "output_type": "stream",
     "text": [
      "[ 0.-0.j  0.+0.j  0.+1.j -0.+0.j]\n"
     ]
    }
   ],
   "source": [
    "# Create a Quantum Program for execution\n",
    "job3 = backend3.run(circuit3)\n",
    "result3 = job3.result()\n",
    "outputstate3 = result3.get_statevector(circuit3, decimals=3)\n",
    "print(outputstate3)"
   ]
  },
  {
   "cell_type": "code",
   "execution_count": null,
   "id": "1037e3c5",
   "metadata": {},
   "outputs": [],
   "source": []
  },
  {
   "cell_type": "code",
   "execution_count": 19,
   "id": "e027f221",
   "metadata": {},
   "outputs": [
    {
     "data": {
      "text/plain": [
       "array([0.-0.j, 0.+0.j, 0.+1.j, 0.-0.j])"
      ]
     },
     "execution_count": 19,
     "metadata": {},
     "output_type": "execute_result"
    }
   ],
   "source": [
    "outputstate"
   ]
  },
  {
   "cell_type": "code",
   "execution_count": 20,
   "id": "d8145860",
   "metadata": {},
   "outputs": [
    {
     "data": {
      "text/plain": [
       "array([-0.+0.j,  0.-0.j,  0.+0.j, -1.+0.j])"
      ]
     },
     "execution_count": 20,
     "metadata": {},
     "output_type": "execute_result"
    }
   ],
   "source": [
    "outputstate2"
   ]
  },
  {
   "cell_type": "code",
   "execution_count": 21,
   "id": "9afef6ea",
   "metadata": {},
   "outputs": [
    {
     "data": {
      "text/plain": [
       "array([ 0.-0.j,  0.+0.j,  0.+1.j, -0.+0.j])"
      ]
     },
     "execution_count": 21,
     "metadata": {},
     "output_type": "execute_result"
    }
   ],
   "source": [
    "outputstate3"
   ]
  },
  {
   "cell_type": "code",
   "execution_count": null,
   "id": "17c84e34",
   "metadata": {},
   "outputs": [],
   "source": []
  }
 ],
 "metadata": {
  "kernelspec": {
   "display_name": "Python 3 (ipykernel)",
   "language": "python",
   "name": "python3"
  },
  "language_info": {
   "codemirror_mode": {
    "name": "ipython",
    "version": 3
   },
   "file_extension": ".py",
   "mimetype": "text/x-python",
   "name": "python",
   "nbconvert_exporter": "python",
   "pygments_lexer": "ipython3",
   "version": "3.7.11"
  }
 },
 "nbformat": 4,
 "nbformat_minor": 5
}
