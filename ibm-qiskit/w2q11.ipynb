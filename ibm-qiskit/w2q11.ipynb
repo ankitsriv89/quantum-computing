{
 "cells": [
  {
   "cell_type": "code",
   "execution_count": 6,
   "id": "e33e48be",
   "metadata": {},
   "outputs": [],
   "source": [
    "from qiskit import QuantumRegister, ClassicalRegister, QuantumCircuit, Aer, assemble\n",
    "import numpy as np\n",
    "from qiskit.visualization import plot_histogram, plot_bloch_multivector"
   ]
  },
  {
   "cell_type": "code",
   "execution_count": 7,
   "id": "5afabc22",
   "metadata": {},
   "outputs": [
    {
     "data": {
      "text/html": [
       "<pre style=\"word-wrap: normal;white-space: pre;background: #fff0;line-height: 1.1;font-family: &quot;Courier New&quot;,Courier,monospace\">     ┌─────────────────┐┌───┐┌───┐     \n",
       "q_0: ┤ Initialize(0,1) ├┤ H ├┤ S ├──■──\n",
       "     ├─────────────────┤└───┘└───┘┌─┴─┐\n",
       "q_1: ┤ Initialize(0,1) ├──────────┤ X ├\n",
       "     └─────────────────┘          └───┘\n",
       "c: 2/══════════════════════════════════\n",
       "                                       </pre>"
      ],
      "text/plain": [
       "     ┌─────────────────┐┌───┐┌───┐     \n",
       "q_0: ┤ Initialize(0,1) ├┤ H ├┤ S ├──■──\n",
       "     ├─────────────────┤└───┘└───┘┌─┴─┐\n",
       "q_1: ┤ Initialize(0,1) ├──────────┤ X ├\n",
       "     └─────────────────┘          └───┘\n",
       "c: 2/══════════════════════════════════\n",
       "                                       "
      ]
     },
     "execution_count": 7,
     "metadata": {},
     "output_type": "execute_result"
    }
   ],
   "source": [
    "\n",
    "qreg_q = QuantumRegister(2, 'q')\n",
    "creg_c = ClassicalRegister(2, 'c')\n",
    "\n",
    "circuit = QuantumCircuit(qreg_q, creg_c)\n",
    "#initial_state = [0,1]   # Define initial_state as |1>\n",
    "#circuit.initialize(initial_state, 0) # Apply initialisation operation to the 0th qubit\n",
    "circuit.initialize([0,1], qreg_q[0])\n",
    "circuit.initialize([0,1], qreg_q[1])\n",
    "circuit.h(qreg_q[0])\n",
    "circuit.s(qreg_q[0])\n",
    "circuit.cx(qreg_q[0], qreg_q[1])\n",
    "circuit.draw()"
   ]
  },
  {
   "cell_type": "code",
   "execution_count": 8,
   "id": "9aa1d1d4",
   "metadata": {},
   "outputs": [
    {
     "name": "stdout",
     "output_type": "stream",
     "text": [
      "[ 0.   +0.j    -0.   -0.707j  0.707-0.j    -0.   +0.j   ]\n"
     ]
    }
   ],
   "source": [
    "# Run the quantum circuit on a statevector simulator backend\n",
    "backend = Aer.get_backend('statevector_simulator')\n",
    "job = backend.run(circuit)\n",
    "result = job.result()\n",
    "outputstate = result.get_statevector(circuit, decimals=3)\n",
    "print(outputstate)"
   ]
  },
  {
   "cell_type": "code",
   "execution_count": null,
   "id": "e74a8ce8",
   "metadata": {},
   "outputs": [],
   "source": []
  }
 ],
 "metadata": {
  "kernelspec": {
   "display_name": "Python 3 (ipykernel)",
   "language": "python",
   "name": "python3"
  },
  "language_info": {
   "codemirror_mode": {
    "name": "ipython",
    "version": 3
   },
   "file_extension": ".py",
   "mimetype": "text/x-python",
   "name": "python",
   "nbconvert_exporter": "python",
   "pygments_lexer": "ipython3",
   "version": "3.7.11"
  }
 },
 "nbformat": 4,
 "nbformat_minor": 5
}
