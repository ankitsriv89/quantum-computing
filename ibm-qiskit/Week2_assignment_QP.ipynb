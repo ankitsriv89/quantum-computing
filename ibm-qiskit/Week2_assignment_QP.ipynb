{
 "cells": [
  {
   "cell_type": "markdown",
   "id": "1c18e5c9",
   "metadata": {
    "tags": []
   },
   "source": [
    "# Week 2 Assignment : Quantum circuits\n",
    "Author : Anupama Ray, Research Scientist & IBM Quantum Technical Ambassador, IBM Research India"
   ]
  },
  {
   "cell_type": "markdown",
   "id": "27cf8b4b",
   "metadata": {},
   "source": [
    " We will learn to implement Basic circuits and Quantum concepts learnt in Week 1 and Week 2 of the course in this notebook. First lets import all the required libraries"
   ]
  },
  {
   "cell_type": "code",
   "execution_count": 1,
   "id": "75416166",
   "metadata": {},
   "outputs": [],
   "source": [
    "import numpy as np\n",
    "# Importing standard Qiskit libraries\n",
    "from qiskit import QuantumCircuit, transpile, Aer, IBMQ\n",
    "from qiskit import QuantumRegister, ClassicalRegister\n",
    "from qiskit.tools.jupyter import *\n",
    "from qiskit.visualization import *\n",
    "#from ibm_quantum_widgets import *\n",
    "\n",
    "# Loading your IBM Q account(s)\n",
    "#provider = IBMQ.load_account()"
   ]
  },
  {
   "cell_type": "code",
   "execution_count": 2,
   "id": "0562dbc8",
   "metadata": {},
   "outputs": [],
   "source": [
    "from qiskit import assemble\n",
    "import numpy as np\n",
    "import matplotlib.pyplot as plt"
   ]
  },
  {
   "cell_type": "markdown",
   "id": "406fe45f",
   "metadata": {},
   "source": [
    "Space for trying out answers\n",
    "You can add any new cells in this notebook to try to figure out the answers for questions.\n"
   ]
  },
  {
   "cell_type": "code",
   "execution_count": null,
   "id": "cf51c9ab",
   "metadata": {},
   "outputs": [],
   "source": [
    "\n",
    "    \n",
    "    "
   ]
  },
  {
   "cell_type": "markdown",
   "id": "620efacc",
   "metadata": {
    "tags": []
   },
   "source": [
    "Exercise 2.1\n",
    "# Question 1\n",
    "Create a Quantum Circuit acting on a quantum register of three qubits, set the first qubit to superposition and entangle with the other qubits. \n",
    "You need to complete the function in the cell below to Create the above mentioned entangled state. \n",
    " This Function should take a circuit object 'ckt', and an integer 'n' : The number of data qubits \n",
    " "
   ]
  },
  {
   "cell_type": "code",
   "execution_count": 3,
   "id": "1f45bd7e",
   "metadata": {},
   "outputs": [],
   "source": [
    "ckt = QuantumCircuit(3)\n"
   ]
  },
  {
   "cell_type": "code",
   "execution_count": 4,
   "id": "362314a2",
   "metadata": {},
   "outputs": [
    {
     "data": {
      "text/html": [
       "<pre style=\"word-wrap: normal;white-space: pre;background: #fff0;line-height: 1.1;font-family: &quot;Courier New&quot;,Courier,monospace\">     ┌───┐          \n",
       "q_0: ┤ H ├──■────■──\n",
       "     └───┘┌─┴─┐  │  \n",
       "q_1: ─────┤ X ├──┼──\n",
       "          └───┘┌─┴─┐\n",
       "q_2: ──────────┤ X ├\n",
       "               └───┘</pre>"
      ],
      "text/plain": [
       "     ┌───┐          \n",
       "q_0: ┤ H ├──■────■──\n",
       "     └───┘┌─┴─┐  │  \n",
       "q_1: ─────┤ X ├──┼──\n",
       "          └───┘┌─┴─┐\n",
       "q_2: ──────────┤ X ├\n",
       "               └───┘"
      ]
     },
     "execution_count": 4,
     "metadata": {},
     "output_type": "execute_result"
    }
   ],
   "source": [
    "\n",
    "#def create_entangledstate_function(ckt,n):\n",
    "ckt.h(0)\n",
    "ckt.cx(0,1)\n",
    "ckt.cx(0,2)\n",
    "ckt.draw()\n",
    "    "
   ]
  },
  {
   "cell_type": "markdown",
   "id": "c1478a6f",
   "metadata": {},
   "source": [
    "To run the above circuit using the statevector simulator, first you need to import Aer and then set the backend to statevector_simulator. "
   ]
  },
  {
   "cell_type": "code",
   "execution_count": null,
   "id": "2f6f0cf6",
   "metadata": {},
   "outputs": [],
   "source": []
  },
  {
   "cell_type": "code",
   "execution_count": 5,
   "id": "032a1195",
   "metadata": {},
   "outputs": [],
   "source": [
    "# Import Aer\n",
    "from qiskit import Aer\n",
    "\n",
    "# Run the quantum circuit on a statevector simulator backend\n",
    "backend = Aer.get_backend('statevector_simulator')\n",
    "# Create a Quantum Program for execution\n",
    "job = backend.run(ckt)\n",
    "result = job.result()\n",
    "\n",
    "\n"
   ]
  },
  {
   "cell_type": "markdown",
   "id": "5b53b991-1778-4a88-b865-59528373a225",
   "metadata": {},
   "source": [
    "# Question 1.1\n",
    "What is the the state vector for the quantum circuit? "
   ]
  },
  {
   "cell_type": "code",
   "execution_count": 6,
   "id": "f2d5b20d-3571-473a-b9b8-22b3bd96e5fc",
   "metadata": {},
   "outputs": [
    {
     "name": "stdout",
     "output_type": "stream",
     "text": [
      "[0.707+0.j 0.   +0.j 0.   +0.j 0.   +0.j 0.   +0.j 0.   +0.j 0.   +0.j\n",
      " 0.707+0.j]\n"
     ]
    }
   ],
   "source": [
    "#complete the line to print the outputstate\n",
    "outputstate = result.get_statevector(ckt, decimals=3)\n",
    "print(outputstate)"
   ]
  },
  {
   "cell_type": "markdown",
   "id": "7817d41a",
   "metadata": {},
   "source": [
    "# Question 1.2\n",
    "use the visualization function to plot the real and imaginary components of the state density matrix ρ.\n"
   ]
  },
  {
   "cell_type": "code",
   "execution_count": 7,
   "id": "6d5103b4",
   "metadata": {},
   "outputs": [],
   "source": [
    "from qiskit.visualization import *\n",
    "#use the appropriate visualization tool to plot real and imaginary components of the state density matrix"
   ]
  },
  {
   "cell_type": "markdown",
   "id": "ec877173-774f-414a-b9d6-68abe44661d4",
   "metadata": {},
   "source": [
    "Lets create a helper function that we can use multiple times. This function will execute a circuit on the state vector simulator and return state vector results, circuit diagram and Qsphere."
   ]
  },
  {
   "cell_type": "code",
   "execution_count": 24,
   "id": "d6c850e4-f643-446f-b4da-5c061fa62395",
   "metadata": {},
   "outputs": [],
   "source": [
    "# Will execute the circuit on the state vector (sv) simulator\n",
    "# Returns state vector results, circuit diagram, and QSphere \n",
    "def execute_circuit_sv(quantum_circuit):\n",
    "    #Create a state vector simulator\n",
    "    statevector_simulator = Aer.get_backend('statevector_simulator')\n",
    "    #Execute the circuit on the simulator\n",
    "    job = backend.run(quantum_circuit)\n",
    "    #result = execute(quantum_circuit, statevector_simulator).result()\n",
    "    result = job.result()\n",
    "    #Assign state vector results\n",
    "    statevector_results  = result.get_statevector(quantum_circuit)\n",
    "    #Draw the circuit diagram\n",
    "    circuit_diagram = quantum_circuit.draw()\n",
    "    #Draw the Qsphere \n",
    "    q_sphere = plot_state_qsphere(statevector_results)\n",
    "    #Return the results, circuit diagram, and QSphere\t\t\n",
    "    return statevector_results, circuit_diagram, q_sphere"
   ]
  },
  {
   "cell_type": "code",
   "execution_count": 25,
   "id": "50023cb1-3819-4e63-a378-ea8e4e134b3c",
   "metadata": {},
   "outputs": [
    {
     "data": {
      "text/plain": [
       "(array([0.70710678-8.65956056e-17j, 0.70710678-8.65956056e-17j]),\n",
       "      ┌───┐┌───┐┌───┐\n",
       " q_0: ┤ X ├┤ H ├┤ Z ├\n",
       "      └───┘└───┘└───┘,\n",
       " <Figure size 504x504 with 2 Axes>)"
      ]
     },
     "execution_count": 25,
     "metadata": {},
     "output_type": "execute_result"
    },
    {
     "name": "stderr",
     "output_type": "stream",
     "text": [
      "C:\\ProgramData\\Anaconda3\\lib\\site-packages\\qiskit\\visualization\\bloch.py:68: MatplotlibDeprecationWarning: \n",
      "The M attribute was deprecated in Matplotlib 3.4 and will be removed two minor releases later. Use self.axes.M instead.\n",
      "  x_s, y_s, _ = proj3d.proj_transform(xs3d, ys3d, zs3d, renderer.M)\n"
     ]
    },
    {
     "data": {
      "image/png": "[encoded data removed]",
      "text/plain": [
       "<Figure size 504x504 with 2 Axes>"
      ]
     },
     "metadata": {},
     "output_type": "display_data"
    }
   ],
   "source": [
    "#complete the following lines to execute circuit\n",
    "execute_circuit_sv(qc)"
   ]
  },
  {
   "cell_type": "markdown",
   "id": "77073f48",
   "metadata": {},
   "source": [
    "#Question 2\n",
    "\n",
    "Demonstrating Phase kickback - ability to negate a state vector (add an X gate before H and Z gates)\n",
    "premise:\n",
    "Working with Phase gate (Pauli Z gate) which rotates along the longitude of the Hilbert space, hence the phase of the Hilbert space. So lets first create a circuit for Z gate\n"
   ]
  },
  {
   "cell_type": "code",
   "execution_count": 23,
   "id": "d0f3edfe",
   "metadata": {},
   "outputs": [
    {
     "data": {
      "text/plain": [
       "<qiskit.circuit.instructionset.InstructionSet at 0x1e34fa5db88>"
      ]
     },
     "execution_count": 23,
     "metadata": {},
     "output_type": "execute_result"
    }
   ],
   "source": [
    "#single qubit circuit creation\n",
    "qc = QuantumCircuit(1)\n",
    "qc.x(0)\n",
    "qc.h(0) #set qubit to superposition\n",
    "qc.z(0) #add Z gate to rotate out of phase by pi/2\n",
    "#write the next lines to execute circuit and capture results\n"
   ]
  },
  {
   "cell_type": "code",
   "execution_count": null,
   "id": "13d34085",
   "metadata": {},
   "outputs": [],
   "source": []
  },
  {
   "cell_type": "markdown",
   "id": "7e9342ac",
   "metadata": {},
   "source": [
    "So Z gate provides a way to perform a phase shift on a qubit causing the state of teh qubit to change its sign from psoitive to negative.\n",
    "If x gate is used then the state result becomes negative. This ability to negate a state vector is called Phase Kickback."
   ]
  },
  {
   "cell_type": "code",
   "execution_count": null,
   "id": "c87ec42f",
   "metadata": {},
   "outputs": [],
   "source": []
  },
  {
   "cell_type": "markdown",
   "id": "b59dc5aa",
   "metadata": {},
   "source": [
    "# References \n",
    "\n",
    "1. I. Chuang & M. Nielsen, \"Quantum Computation and Quantum Information\", Cambridge: Cambridge University Press, 2000.\n",
    "\n",
    "2. Qiskit Textbook : https://qiskit.org/textbook/\n"
   ]
  }
 ],
 "metadata": {
  "kernelspec": {
   "display_name": "Python 3 (ipykernel)",
   "language": "python",
   "name": "python3"
  },
  "language_info": {
   "codemirror_mode": {
    "name": "ipython",
    "version": 3
   },
   "file_extension": ".py",
   "mimetype": "text/x-python",
   "name": "python",
   "nbconvert_exporter": "python",
   "pygments_lexer": "ipython3",
   "version": "3.7.11"
  },
  "widgets": {
   "application/vnd.jupyter.widget-state+json": {
    "state": {},
    "version_major": 2,
    "version_minor": 0
   }
  }
 },
 "nbformat": 4,
 "nbformat_minor": 5
}
