{
 "cells": [
  {
   "cell_type": "code",
   "execution_count": 1,
   "id": "ed28bbe8",
   "metadata": {},
   "outputs": [],
   "source": [
    "from qiskit import QuantumRegister, ClassicalRegister, QuantumCircuit, Aer\n",
    "from numpy import pi\n"
   ]
  },
  {
   "cell_type": "markdown",
   "id": "af708acd",
   "metadata": {},
   "source": [
    "option-1"
   ]
  },
  {
   "cell_type": "code",
   "execution_count": 2,
   "id": "8f91cb4a",
   "metadata": {},
   "outputs": [
    {
     "data": {
      "text/plain": [
       "<qiskit.circuit.instructionset.InstructionSet at 0x194b9ebfac8>"
      ]
     },
     "execution_count": 2,
     "metadata": {},
     "output_type": "execute_result"
    }
   ],
   "source": [
    "qreg_q = QuantumRegister(2, 'q')\n",
    "creg_c = ClassicalRegister(2, 'c')\n",
    "circuit = QuantumCircuit(qreg_q, creg_c)\n",
    "\n",
    "circuit.cx(qreg_q[0], qreg_q[1])\n",
    "circuit.y(qreg_q[0])\n",
    "circuit.cx(qreg_q[0], qreg_q[1])"
   ]
  },
  {
   "cell_type": "code",
   "execution_count": 3,
   "id": "e8cd70b3",
   "metadata": {},
   "outputs": [
    {
     "data": {
      "text/html": [
       "<pre style=\"word-wrap: normal;white-space: pre;background: #fff0;line-height: 1.1;font-family: &quot;Courier New&quot;,Courier,monospace\">          ┌───┐     \n",
       "q_0: ──■──┤ Y ├──■──\n",
       "     ┌─┴─┐└───┘┌─┴─┐\n",
       "q_1: ┤ X ├─────┤ X ├\n",
       "     └───┘     └───┘\n",
       "c: 2/═══════════════\n",
       "                    </pre>"
      ],
      "text/plain": [
       "          ┌───┐     \n",
       "q_0: ──■──┤ Y ├──■──\n",
       "     ┌─┴─┐└───┘┌─┴─┐\n",
       "q_1: ┤ X ├─────┤ X ├\n",
       "     └───┘     └───┘\n",
       "c: 2/═══════════════\n",
       "                    "
      ]
     },
     "execution_count": 3,
     "metadata": {},
     "output_type": "execute_result"
    }
   ],
   "source": [
    "circuit.draw()"
   ]
  },
  {
   "cell_type": "code",
   "execution_count": 4,
   "id": "cb95d280",
   "metadata": {},
   "outputs": [],
   "source": [
    "# Run the quantum circuit on a statevector simulator backend\n",
    "backend = Aer.get_backend('statevector_simulator')"
   ]
  },
  {
   "cell_type": "code",
   "execution_count": 5,
   "id": "a987db44",
   "metadata": {},
   "outputs": [
    {
     "name": "stdout",
     "output_type": "stream",
     "text": [
      "[0.-0.j 0.+0.j 0.-0.j 0.+1.j]\n"
     ]
    }
   ],
   "source": [
    "# Create a Quantum Program for execution\n",
    "job = backend.run(circuit)\n",
    "result = job.result()\n",
    "outputstate = result.get_statevector(circuit, decimals=3)\n",
    "print(outputstate)"
   ]
  },
  {
   "cell_type": "markdown",
   "id": "eb507216",
   "metadata": {},
   "source": []
  },
  {
   "cell_type": "code",
   "execution_count": 6,
   "id": "5c57cdc9",
   "metadata": {},
   "outputs": [
    {
     "data": {
      "text/html": [
       "<pre style=\"word-wrap: normal;white-space: pre;background: #fff0;line-height: 1.1;font-family: &quot;Courier New&quot;,Courier,monospace\">     ┌───┐\n",
       "q_0: ┤ Y ├\n",
       "     ├───┤\n",
       "q_1: ┤ Y ├\n",
       "     └───┘\n",
       "c: 2/═════\n",
       "          </pre>"
      ],
      "text/plain": [
       "     ┌───┐\n",
       "q_0: ┤ Y ├\n",
       "     ├───┤\n",
       "q_1: ┤ Y ├\n",
       "     └───┘\n",
       "c: 2/═════\n",
       "          "
      ]
     },
     "execution_count": 6,
     "metadata": {},
     "output_type": "execute_result"
    }
   ],
   "source": []
  },
  {
   "cell_type": "code",
   "execution_count": 7,
   "id": "51da49e2",
   "metadata": {},
   "outputs": [],
   "source": [
    "backend2 = Aer.get_backend('statevector_simulator')"
   ]
  },
  {
   "cell_type": "code",
   "execution_count": 9,
   "id": "42eecb6d",
   "metadata": {},
   "outputs": [
    {
     "name": "stdout",
     "output_type": "stream",
     "text": [
      "[-0.+0.j  0.-0.j  0.+0.j -1.+0.j]\n"
     ]
    }
   ],
   "source": [
    "job2 = backend2.run(circuit2)\n",
    "result2 = job2.result()\n",
    "outputstate2 = result2.get_statevector(circuit2, decimals=3)\n",
    "print(outputstate2)"
   ]
  },
  {
   "cell_type": "markdown",
   "id": "d666a0df",
   "metadata": {},
   "source": [
    "option b "
   ]
  },
  {
   "cell_type": "code",
   "execution_count": 16,
   "id": "e93f02b5",
   "metadata": {},
   "outputs": [
    {
     "data": {
      "text/html": [
       "<pre style=\"word-wrap: normal;white-space: pre;background: #fff0;line-height: 1.1;font-family: &quot;Courier New&quot;,Courier,monospace\">     ┌───┐\n",
       "q_0: ┤ Y ├\n",
       "     ├───┤\n",
       "q_1: ┤ X ├\n",
       "     └───┘\n",
       "c: 2/═════\n",
       "          </pre>"
      ],
      "text/plain": [
       "     ┌───┐\n",
       "q_0: ┤ Y ├\n",
       "     ├───┤\n",
       "q_1: ┤ X ├\n",
       "     └───┘\n",
       "c: 2/═════\n",
       "          "
      ]
     },
     "execution_count": 16,
     "metadata": {},
     "output_type": "execute_result"
    }
   ],
   "source": [
    "qreg_qb = QuantumRegister(2, 'q')\n",
    "creg_cb = ClassicalRegister(2, 'c')\n",
    "circuit_b = QuantumCircuit(qreg_qb, creg_cb)\n",
    "\n",
    "circuit_b.y(qreg_qb[0])\n",
    "circuit_b.x(qreg_qb[1])\n",
    "circuit_b.draw()"
   ]
  },
  {
   "cell_type": "code",
   "execution_count": 17,
   "id": "807cd679",
   "metadata": {},
   "outputs": [],
   "source": [
    "# Run the quantum circuit on a statevector simulator backend\n",
    "backend_b = Aer.get_backend('statevector_simulator')\n",
    "\n"
   ]
  },
  {
   "cell_type": "code",
   "execution_count": 18,
   "id": "57315771",
   "metadata": {},
   "outputs": [
    {
     "name": "stdout",
     "output_type": "stream",
     "text": [
      "[0.-0.j 0.+0.j 0.-0.j 0.+1.j]\n"
     ]
    }
   ],
   "source": [
    "# Create a Quantum Program for execution\n",
    "job_b = backend_b.run(circuit_b)\n",
    "resultb = job_b.result()\n",
    "outputstate_b = resultb.get_statevector(circuit_b, decimals=3)\n",
    "print(outputstate_b)"
   ]
  },
  {
   "cell_type": "code",
   "execution_count": null,
   "id": "df6d655d",
   "metadata": {},
   "outputs": [],
   "source": []
  },
  {
   "cell_type": "markdown",
   "id": "d65c5694",
   "metadata": {},
   "source": [
    "option-c"
   ]
  },
  {
   "cell_type": "code",
   "execution_count": null,
   "id": "715b1b2e",
   "metadata": {},
   "outputs": [],
   "source": []
  },
  {
   "cell_type": "code",
   "execution_count": null,
   "id": "434a346e",
   "metadata": {},
   "outputs": [],
   "source": []
  }
 ],
 "metadata": {
  "kernelspec": {
   "display_name": "Python 3 (ipykernel)",
   "language": "python",
   "name": "python3"
  },
  "language_info": {
   "codemirror_mode": {
    "name": "ipython",
    "version": 3
   },
   "file_extension": ".py",
   "mimetype": "text/x-python",
   "name": "python",
   "nbconvert_exporter": "python",
   "pygments_lexer": "ipython3",
   "version": "3.7.11"
  }
 },
 "nbformat": 4,
 "nbformat_minor": 5
}
