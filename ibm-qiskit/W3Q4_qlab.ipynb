{
 "cells": [
  {
   "cell_type": "code",
   "execution_count": 2,
   "id": "64ab2686-c1d6-4d94-8637-cfb83be17e50",
   "metadata": {},
   "outputs": [
    {
     "name": "stderr",
     "output_type": "stream",
     "text": [
      "ibmqfactory.load_account:WARNING:2021-09-11 19:39:25,517: Credentials are already in use. The existing account in the session will be replaced.\n"
     ]
    }
   ],
   "source": [
    "import numpy as np\n",
    "\n",
    "# Importing standard Qiskit libraries\n",
    "from qiskit import QuantumCircuit, transpile, Aer, IBMQ\n",
    "from qiskit.tools.jupyter import *\n",
    "from qiskit.visualization import *\n",
    "from ibm_quantum_widgets import *\n",
    "from qiskit.providers.aer import QasmSimulator\n",
    "from qiskit import QuantumRegister, ClassicalRegister, assemble, transpile\n",
    "from qiskit.providers.aer import AerSimulator\n",
    "\n",
    "from numpy import pi\n",
    "# Loading your IBM Quantum account(s)\n",
    "provider = IBMQ.load_account()"
   ]
  },
  {
   "cell_type": "code",
   "execution_count": 3,
   "id": "617a66f1-7529-4bd8-bdf5-db7ffb0e46d1",
   "metadata": {},
   "outputs": [
    {
     "data": {
      "image/png": "[encoded data removed]",
      "text/plain": [
       "<Figure size 808.997x505.68 with 1 Axes>"
      ]
     },
     "execution_count": 3,
     "metadata": {},
     "output_type": "execute_result"
    }
   ],
   "source": [
    "qreg_q = QuantumRegister(7, 'q')\n",
    "creg_c = ClassicalRegister(7, 'c')\n",
    "circuit = QuantumCircuit(qreg_q, creg_c)\n",
    "\n",
    "for i in range(0,6):\n",
    "    circuit.initialize([1,0],qreg_q[i])\n",
    "circuit.initialize([0,1],qreg_q[6])\n",
    "\n",
    "for i in range(0,7):\n",
    "    circuit.h(qreg_q[i])\n",
    "#circuit.h(qreg_q[6])\n",
    "circuit.x(qreg_q[0])\n",
    "circuit.x(qreg_q[2])\n",
    "circuit.x(qreg_q[3])\n",
    "circuit.barrier(qreg_q[0], qreg_q[1], qreg_q[2], qreg_q[3], qreg_q[4], qreg_q[5],qreg_q[6])\n",
    "\n",
    "for i in range(0,7):\n",
    "    circuit.h(qreg_q[i])\n",
    "    \n",
    "for m in range(0,7):\n",
    "    circuit.measure(qreg_q[m],creg_c[m])\n",
    "circuit.draw()"
   ]
  },
  {
   "cell_type": "code",
   "execution_count": 4,
   "id": "b3b8f5f7-418b-4fe3-84b9-3a6ea9415c1c",
   "metadata": {},
   "outputs": [
    {
     "data": {
      "text/plain": [
       "[<IBMQSimulator('ibmq_qasm_simulator') from IBMQ(hub='ibm-q', group='open', project='main')>,\n",
       " <IBMQBackend('ibmq_armonk') from IBMQ(hub='ibm-q', group='open', project='main')>,\n",
       " <IBMQBackend('ibmq_santiago') from IBMQ(hub='ibm-q', group='open', project='main')>,\n",
       " <IBMQBackend('ibmq_bogota') from IBMQ(hub='ibm-q', group='open', project='main')>,\n",
       " <IBMQBackend('ibmq_lima') from IBMQ(hub='ibm-q', group='open', project='main')>,\n",
       " <IBMQBackend('ibmq_belem') from IBMQ(hub='ibm-q', group='open', project='main')>,\n",
       " <IBMQBackend('ibmq_quito') from IBMQ(hub='ibm-q', group='open', project='main')>,\n",
       " <IBMQSimulator('simulator_statevector') from IBMQ(hub='ibm-q', group='open', project='main')>,\n",
       " <IBMQSimulator('simulator_mps') from IBMQ(hub='ibm-q', group='open', project='main')>,\n",
       " <IBMQSimulator('simulator_extended_stabilizer') from IBMQ(hub='ibm-q', group='open', project='main')>,\n",
       " <IBMQSimulator('simulator_stabilizer') from IBMQ(hub='ibm-q', group='open', project='main')>,\n",
       " <IBMQBackend('ibmq_manila') from IBMQ(hub='ibm-q', group='open', project='main')>]"
      ]
     },
     "execution_count": 4,
     "metadata": {},
     "output_type": "execute_result"
    }
   ],
   "source": [
    "provider.backends()"
   ]
  },
  {
   "cell_type": "code",
   "execution_count": 5,
   "id": "4ad3da18-9b74-423d-808b-52bba68502b3",
   "metadata": {},
   "outputs": [],
   "source": [
    "backend = provider.get_backend('ibmq_qasm_simulator')"
   ]
  },
  {
   "cell_type": "code",
   "execution_count": 6,
   "id": "f8ea0dc3-3208-4448-99a9-1808abaad8b8",
   "metadata": {},
   "outputs": [
    {
     "name": "stderr",
     "output_type": "stream",
     "text": [
      "/opt/conda/lib/python3.8/site-packages/qiskit/providers/ibmq/ibmqbackend.py:906: DeprecationWarning: Passing a Qobj to Backend.run is deprecated and will be removed in a future release. Please pass in circuits or pulse schedules instead.\n",
      "  return super().run(circuits, job_name=job_name,\n"
     ]
    }
   ],
   "source": [
    "circuit.save_statevector()\n",
    "qobj = assemble(circuit)\n",
    "job = backend.run(qobj)"
   ]
  },
  {
   "cell_type": "code",
   "execution_count": 7,
   "id": "de03dc62-310d-4e78-a504-9dc416a1a69a",
   "metadata": {},
   "outputs": [
    {
     "data": {
      "text/plain": [
       "array([0.+0.0000000e+00j, 0.+0.0000000e+00j, 0.+0.0000000e+00j,\n",
       "       0.+0.0000000e+00j, 0.+0.0000000e+00j, 0.+0.0000000e+00j,\n",
       "       0.+0.0000000e+00j, 0.+0.0000000e+00j, 0.+0.0000000e+00j,\n",
       "       0.+0.0000000e+00j, 0.+0.0000000e+00j, 0.+0.0000000e+00j,\n",
       "       0.+0.0000000e+00j, 0.+0.0000000e+00j, 0.+0.0000000e+00j,\n",
       "       0.+0.0000000e+00j, 0.+0.0000000e+00j, 0.+0.0000000e+00j,\n",
       "       0.+0.0000000e+00j, 0.+0.0000000e+00j, 0.+0.0000000e+00j,\n",
       "       0.+0.0000000e+00j, 0.+0.0000000e+00j, 0.+0.0000000e+00j,\n",
       "       0.+0.0000000e+00j, 0.+0.0000000e+00j, 0.+0.0000000e+00j,\n",
       "       0.+0.0000000e+00j, 0.+0.0000000e+00j, 0.+0.0000000e+00j,\n",
       "       0.+0.0000000e+00j, 0.+0.0000000e+00j, 0.+0.0000000e+00j,\n",
       "       0.+0.0000000e+00j, 0.+0.0000000e+00j, 0.+0.0000000e+00j,\n",
       "       0.+0.0000000e+00j, 0.+0.0000000e+00j, 0.+0.0000000e+00j,\n",
       "       0.+0.0000000e+00j, 0.+0.0000000e+00j, 0.+0.0000000e+00j,\n",
       "       0.+0.0000000e+00j, 0.+0.0000000e+00j, 0.+0.0000000e+00j,\n",
       "       0.+0.0000000e+00j, 0.+0.0000000e+00j, 0.+0.0000000e+00j,\n",
       "       0.+0.0000000e+00j, 0.+0.0000000e+00j, 0.+0.0000000e+00j,\n",
       "       0.+0.0000000e+00j, 0.+0.0000000e+00j, 0.+0.0000000e+00j,\n",
       "       0.+0.0000000e+00j, 0.+0.0000000e+00j, 0.+0.0000000e+00j,\n",
       "       0.+0.0000000e+00j, 0.+0.0000000e+00j, 0.+0.0000000e+00j,\n",
       "       0.+0.0000000e+00j, 0.+0.0000000e+00j, 0.+0.0000000e+00j,\n",
       "       0.+0.0000000e+00j, 1.-5.5109106e-16j, 0.+0.0000000e+00j,\n",
       "       0.+0.0000000e+00j, 0.+0.0000000e+00j, 0.+0.0000000e+00j,\n",
       "       0.+0.0000000e+00j, 0.+0.0000000e+00j, 0.+0.0000000e+00j,\n",
       "       0.+0.0000000e+00j, 0.+0.0000000e+00j, 0.+0.0000000e+00j,\n",
       "       0.+0.0000000e+00j, 0.+0.0000000e+00j, 0.+0.0000000e+00j,\n",
       "       0.+0.0000000e+00j, 0.+0.0000000e+00j, 0.+0.0000000e+00j,\n",
       "       0.+0.0000000e+00j, 0.+0.0000000e+00j, 0.+0.0000000e+00j,\n",
       "       0.+0.0000000e+00j, 0.+0.0000000e+00j, 0.+0.0000000e+00j,\n",
       "       0.+0.0000000e+00j, 0.+0.0000000e+00j, 0.+0.0000000e+00j,\n",
       "       0.+0.0000000e+00j, 0.+0.0000000e+00j, 0.+0.0000000e+00j,\n",
       "       0.+0.0000000e+00j, 0.+0.0000000e+00j, 0.+0.0000000e+00j,\n",
       "       0.+0.0000000e+00j, 0.+0.0000000e+00j, 0.+0.0000000e+00j,\n",
       "       0.+0.0000000e+00j, 0.+0.0000000e+00j, 0.+0.0000000e+00j,\n",
       "       0.+0.0000000e+00j, 0.+0.0000000e+00j, 0.+0.0000000e+00j,\n",
       "       0.+0.0000000e+00j, 0.+0.0000000e+00j, 0.+0.0000000e+00j,\n",
       "       0.+0.0000000e+00j, 0.+0.0000000e+00j, 0.+0.0000000e+00j,\n",
       "       0.+0.0000000e+00j, 0.+0.0000000e+00j, 0.+0.0000000e+00j,\n",
       "       0.+0.0000000e+00j, 0.+0.0000000e+00j, 0.+0.0000000e+00j,\n",
       "       0.+0.0000000e+00j, 0.+0.0000000e+00j, 0.+0.0000000e+00j,\n",
       "       0.+0.0000000e+00j, 0.+0.0000000e+00j, 0.+0.0000000e+00j,\n",
       "       0.+0.0000000e+00j, 0.+0.0000000e+00j, 0.+0.0000000e+00j,\n",
       "       0.+0.0000000e+00j, 0.+0.0000000e+00j])"
      ]
     },
     "execution_count": 7,
     "metadata": {},
     "output_type": "execute_result"
    }
   ],
   "source": [
    "ket = job.result().get_statevector()\n",
    "ket"
   ]
  },
  {
   "cell_type": "code",
   "execution_count": 8,
   "id": "11a7b388-13f8-45ce-81cf-5a7f7c4ea819",
   "metadata": {},
   "outputs": [
    {
     "name": "stdout",
     "output_type": "stream",
     "text": [
      "{'1000000': 1024}\n"
     ]
    }
   ],
   "source": [
    "hist = job.result().get_counts()\n",
    "print(hist)"
   ]
  },
  {
   "cell_type": "code",
   "execution_count": 9,
   "id": "ad4b60bd-dc87-4cea-9c8c-a55b68368b4a",
   "metadata": {},
   "outputs": [
    {
     "data": {
      "image/png": "[encoded data removed]",
      "text/plain": [
       "<Figure size 504x360 with 1 Axes>"
      ]
     },
     "execution_count": 9,
     "metadata": {},
     "output_type": "execute_result"
    }
   ],
   "source": [
    "from qiskit.visualization import plot_histogram\n",
    "\n",
    "plot_histogram(hist)"
   ]
  },
  {
   "cell_type": "code",
   "execution_count": null,
   "id": "4725215c-9b4b-4529-8ba4-30bd7aacffa9",
   "metadata": {},
   "outputs": [],
   "source": []
  }
 ],
 "metadata": {
  "kernelspec": {
   "display_name": "Python 3 (ipykernel)",
   "language": "python",
   "name": "python3"
  },
  "language_info": {
   "codemirror_mode": {
    "name": "ipython",
    "version": 3
   },
   "file_extension": ".py",
   "mimetype": "text/x-python",
   "name": "python",
   "nbconvert_exporter": "python",
   "pygments_lexer": "ipython3",
   "version": "3.7.11"
  },
  "widgets": {
   "application/vnd.jupyter.widget-state+json": {
    "state": {
     "0004f7ca93324510a7550bbe5a0d5f54": {
      "model_module": "@jupyter-widgets/controls",
      "model_module_version": "1.5.0",
      "model_name": "DescriptionStyleModel",
      "state": {
       "description_width": ""
      }
     },
     "01f6fe7eb22843e5aa78e43ad10b8347": {
      "model_module": "@jupyter-widgets/controls",
      "model_module_version": "1.5.0",
      "model_name": "HTMLModel",
      "state": {
       "layout": "IPY_MODEL_7ede442c49c144b98b9e2caf9050d25e",
       "style": "IPY_MODEL_971d25321b234b36a3ebd903485a9909",
       "value": "613d08548d80c5161fd45304"
      }
     },
     "03e9b44044964f75a1dfe0b0339f2946": {
      "model_module": "@jupyter-widgets/base",
      "model_module_version": "1.2.0",
      "model_name": "LayoutModel",
      "state": {
       "width": "95px"
      }
     },
     "0b823087733240a1bdb01e46c39d4000": {
      "model_module": "@jupyter-widgets/controls",
      "model_module_version": "1.5.0",
      "model_name": "HTMLModel",
      "state": {
       "layout": "IPY_MODEL_c7972118acb94004a2a0e4b9af793729",
       "style": "IPY_MODEL_171069be9dda4a909437c1f022ba816e",
       "value": "<h5>Backend</h5>"
      }
     },
     "103c3f598fb64b3d9566c2704896bfcb": {
      "model_module": "@jupyter-widgets/controls",
      "model_module_version": "1.5.0",
      "model_name": "DescriptionStyleModel",
      "state": {
       "description_width": ""
      }
     },
     "171069be9dda4a909437c1f022ba816e": {
      "model_module": "@jupyter-widgets/controls",
      "model_module_version": "1.5.0",
      "model_name": "DescriptionStyleModel",
      "state": {
       "description_width": ""
      }
     },
     "1ace8e3452204de290e5c396da81229b": {
      "model_module": "@jupyter-widgets/controls",
      "model_module_version": "1.5.0",
      "model_name": "DescriptionStyleModel",
      "state": {
       "description_width": ""
      }
     },
     "2120e3127d4a4434a9dc7ecd7ccd4c46": {
      "model_module": "@jupyter-widgets/controls",
      "model_module_version": "1.5.0",
      "model_name": "HTMLModel",
      "state": {
       "layout": "IPY_MODEL_28cae30feb4548e2839af7a345fe13c0",
       "style": "IPY_MODEL_ad23ea2dd982468cbebbb323c5d47ff5",
       "value": "job has successfully run"
      }
     },
     "28cae30feb4548e2839af7a345fe13c0": {
      "model_module": "@jupyter-widgets/base",
      "model_module_version": "1.2.0",
      "model_name": "LayoutModel",
      "state": {
       "overflow_x": "scroll"
      }
     },
     "2ee60bd8de0c444f872cf9a58caf370b": {
      "model_module": "@jupyter-widgets/base",
      "model_module_version": "1.2.0",
      "model_name": "LayoutModel",
      "state": {
       "max_width": "700px",
       "min_width": "700px"
      }
     },
     "398c77bb0bad4572879753b083faa21f": {
      "model_module": "@jupyter-widgets/base",
      "model_module_version": "1.2.0",
      "model_name": "LayoutModel",
      "state": {
       "width": "70px"
      }
     },
     "4115fce47f9b45e1a96c0be8d7069f8e": {
      "model_module": "@jupyter-widgets/controls",
      "model_module_version": "1.5.0",
      "model_name": "HTMLModel",
      "state": {
       "layout": "IPY_MODEL_f7c7011d8afc4102a59e3e27c866bdb0",
       "style": "IPY_MODEL_9ea3dd57bd55447e92c797f107281d8c",
       "value": "-"
      }
     },
     "48d93d836c5a4f5c96ea3dfa99684cca": {
      "model_module": "@jupyter-widgets/base",
      "model_module_version": "1.2.0",
      "model_name": "LayoutModel",
      "state": {}
     },
     "575020940e804f5988d872d6ba443e55": {
      "model_module": "@jupyter-widgets/controls",
      "model_module_version": "1.5.0",
      "model_name": "ButtonStyleModel",
      "state": {
       "button_color": "white"
      }
     },
     "66f9c91a7c8649d88a6b4d5148f185a6": {
      "model_module": "@jupyter-widgets/base",
      "model_module_version": "1.2.0",
      "model_name": "LayoutModel",
      "state": {
       "margin": "0px 0px 0px 37px",
       "width": "600px"
      }
     },
     "6708ea7a20cd4b5fa33ce83f04b05530": {
      "model_module": "@jupyter-widgets/controls",
      "model_module_version": "1.5.0",
      "model_name": "DescriptionStyleModel",
      "state": {
       "description_width": ""
      }
     },
     "68ca5b02883d478892fa6169aded41d3": {
      "model_module": "@jupyter-widgets/controls",
      "model_module_version": "1.5.0",
      "model_name": "HBoxModel",
      "state": {
       "children": [
        "IPY_MODEL_72dc4b35eaad4b6ab27e9a12ea4dd9b2",
        "IPY_MODEL_01f6fe7eb22843e5aa78e43ad10b8347",
        "IPY_MODEL_7d2912ae2a3341df9eabfe5f6f9dd2e6",
        "IPY_MODEL_9497b0807f0f4ca1b572b7fc70c49fbb",
        "IPY_MODEL_4115fce47f9b45e1a96c0be8d7069f8e",
        "IPY_MODEL_2120e3127d4a4434a9dc7ecd7ccd4c46"
       ],
       "layout": "IPY_MODEL_2ee60bd8de0c444f872cf9a58caf370b"
      }
     },
     "6a1a50bd69a34eb48c4d0ee6720aa006": {
      "model_module": "@jupyter-widgets/base",
      "model_module_version": "1.2.0",
      "model_name": "LayoutModel",
      "state": {
       "width": "95px"
      }
     },
     "721a620f1b05409394342dafc53f8e5a": {
      "model_module": "@jupyter-widgets/controls",
      "model_module_version": "1.5.0",
      "model_name": "DescriptionStyleModel",
      "state": {
       "description_width": ""
      }
     },
     "72dc4b35eaad4b6ab27e9a12ea4dd9b2": {
      "model_module": "@jupyter-widgets/controls",
      "model_module_version": "1.5.0",
      "model_name": "ButtonModel",
      "state": {
       "icon": "close",
       "layout": "IPY_MODEL_ae9dbb2c5ea648adac1c8701b8c0505a",
       "style": "IPY_MODEL_575020940e804f5988d872d6ba443e55"
      }
     },
     "7d2912ae2a3341df9eabfe5f6f9dd2e6": {
      "model_module": "@jupyter-widgets/controls",
      "model_module_version": "1.5.0",
      "model_name": "HTMLModel",
      "state": {
       "layout": "IPY_MODEL_d086851cd36e4b3eb7b3bea939dbcef5",
       "style": "IPY_MODEL_ca7b842f157a4e05a23f715c08564117",
       "value": "ibmq_qasm_simulator"
      }
     },
     "7ede442c49c144b98b9e2caf9050d25e": {
      "model_module": "@jupyter-widgets/base",
      "model_module_version": "1.2.0",
      "model_name": "LayoutModel",
      "state": {
       "width": "190px"
      }
     },
     "8058ece34afd4cd6a9cbf19d1c770102": {
      "model_module": "@jupyter-widgets/base",
      "model_module_version": "1.2.0",
      "model_name": "LayoutModel",
      "state": {
       "width": "190px"
      }
     },
     "8f5edcc4cf9741ceb8a13f634dc9a8b0": {
      "model_module": "@jupyter-widgets/controls",
      "model_module_version": "1.5.0",
      "model_name": "DescriptionStyleModel",
      "state": {
       "description_width": ""
      }
     },
     "8f8454601914446795a49e1f01763a12": {
      "model_module": "@jupyter-widgets/controls",
      "model_module_version": "1.5.0",
      "model_name": "ButtonModel",
      "state": {
       "button_style": "primary",
       "description": "Clear",
       "layout": "IPY_MODEL_ea5f65e5457e48328d3c0e80afdba444",
       "style": "IPY_MODEL_b68ae00882a34540a4dcf0d763fdf304"
      }
     },
     "905647f1ba8044fe80ba3da46e3c6f80": {
      "model_module": "@jupyter-widgets/controls",
      "model_module_version": "1.5.0",
      "model_name": "HTMLModel",
      "state": {
       "layout": "IPY_MODEL_8058ece34afd4cd6a9cbf19d1c770102",
       "style": "IPY_MODEL_6708ea7a20cd4b5fa33ce83f04b05530",
       "value": "<h5>Job ID</h5>"
      }
     },
     "9497b0807f0f4ca1b572b7fc70c49fbb": {
      "model_module": "@jupyter-widgets/controls",
      "model_module_version": "1.5.0",
      "model_name": "HTMLModel",
      "state": {
       "layout": "IPY_MODEL_03e9b44044964f75a1dfe0b0339f2946",
       "style": "IPY_MODEL_103c3f598fb64b3d9566c2704896bfcb",
       "value": "<font style='color:#34BC6E'>DONE</font>"
      }
     },
     "971d25321b234b36a3ebd903485a9909": {
      "model_module": "@jupyter-widgets/controls",
      "model_module_version": "1.5.0",
      "model_name": "DescriptionStyleModel",
      "state": {
       "description_width": ""
      }
     },
     "9ea3dd57bd55447e92c797f107281d8c": {
      "model_module": "@jupyter-widgets/controls",
      "model_module_version": "1.5.0",
      "model_name": "DescriptionStyleModel",
      "state": {
       "description_width": ""
      }
     },
     "a8e8c056a8654ef385eaa3615fe99675": {
      "model_module": "@jupyter-widgets/base",
      "model_module_version": "1.2.0",
      "model_name": "LayoutModel",
      "state": {
       "margin": "0px 0px 10px 0px"
      }
     },
     "a9d4484ed9bd4cd39da2b2ac515d0e3d": {
      "model_module": "@jupyter-widgets/controls",
      "model_module_version": "1.5.0",
      "model_name": "HBoxModel",
      "state": {
       "children": [
        "IPY_MODEL_905647f1ba8044fe80ba3da46e3c6f80",
        "IPY_MODEL_0b823087733240a1bdb01e46c39d4000",
        "IPY_MODEL_f3b85ed899a1493ba2e4e0e3d7c69e8f",
        "IPY_MODEL_cb82e003e1ea48388b49c928434c8e46",
        "IPY_MODEL_b87650a7191c4d739114c95efcffcd54"
       ],
       "layout": "IPY_MODEL_66f9c91a7c8649d88a6b4d5148f185a6"
      }
     },
     "ad23ea2dd982468cbebbb323c5d47ff5": {
      "model_module": "@jupyter-widgets/controls",
      "model_module_version": "1.5.0",
      "model_name": "DescriptionStyleModel",
      "state": {
       "description_width": ""
      }
     },
     "ae9dbb2c5ea648adac1c8701b8c0505a": {
      "model_module": "@jupyter-widgets/base",
      "model_module_version": "1.2.0",
      "model_name": "LayoutModel",
      "state": {
       "margin": "0px 5px 0px 0px",
       "width": "32px"
      }
     },
     "b3233c897e5c4410a21f78eb5e35eef9": {
      "model_module": "@jupyter-widgets/controls",
      "model_module_version": "1.5.0",
      "model_name": "GridBoxModel",
      "state": {
       "children": [
        "IPY_MODEL_8f8454601914446795a49e1f01763a12"
       ],
       "layout": "IPY_MODEL_e1d612617aeb4a608dc20c3add049027"
      }
     },
     "b68ae00882a34540a4dcf0d763fdf304": {
      "model_module": "@jupyter-widgets/controls",
      "model_module_version": "1.5.0",
      "model_name": "ButtonStyleModel",
      "state": {}
     },
     "b87650a7191c4d739114c95efcffcd54": {
      "model_module": "@jupyter-widgets/controls",
      "model_module_version": "1.5.0",
      "model_name": "HTMLModel",
      "state": {
       "layout": "IPY_MODEL_48d93d836c5a4f5c96ea3dfa99684cca",
       "style": "IPY_MODEL_0004f7ca93324510a7550bbe5a0d5f54",
       "value": "<h5>Message</h5>"
      }
     },
     "c7972118acb94004a2a0e4b9af793729": {
      "model_module": "@jupyter-widgets/base",
      "model_module_version": "1.2.0",
      "model_name": "LayoutModel",
      "state": {
       "width": "145px"
      }
     },
     "ca7b842f157a4e05a23f715c08564117": {
      "model_module": "@jupyter-widgets/controls",
      "model_module_version": "1.5.0",
      "model_name": "DescriptionStyleModel",
      "state": {
       "description_width": ""
      }
     },
     "cb82e003e1ea48388b49c928434c8e46": {
      "model_module": "@jupyter-widgets/controls",
      "model_module_version": "1.5.0",
      "model_name": "HTMLModel",
      "state": {
       "layout": "IPY_MODEL_398c77bb0bad4572879753b083faa21f",
       "style": "IPY_MODEL_721a620f1b05409394342dafc53f8e5a",
       "value": "<h5>Queue</h5>"
      }
     },
     "d086851cd36e4b3eb7b3bea939dbcef5": {
      "model_module": "@jupyter-widgets/base",
      "model_module_version": "1.2.0",
      "model_name": "LayoutModel",
      "state": {
       "width": "145px"
      }
     },
     "e1d612617aeb4a608dc20c3add049027": {
      "model_module": "@jupyter-widgets/base",
      "model_module_version": "1.2.0",
      "model_name": "LayoutModel",
      "state": {
       "grid_template_areas": "\n                                       \". . . . right \"\n                                        ",
       "grid_template_columns": "20% 20% 20% 20% 20%",
       "width": "100%"
      }
     },
     "ea5f65e5457e48328d3c0e80afdba444": {
      "model_module": "@jupyter-widgets/base",
      "model_module_version": "1.2.0",
      "model_name": "LayoutModel",
      "state": {
       "grid_area": "right",
       "padding": "0px 0px 0px 0px",
       "width": "70px"
      }
     },
     "f04c8442e16e4451a63690a31c244f19": {
      "model_module": "@jupyter-widgets/controls",
      "model_module_version": "1.5.0",
      "model_name": "HTMLModel",
      "state": {
       "layout": "IPY_MODEL_a8e8c056a8654ef385eaa3615fe99675",
       "style": "IPY_MODEL_8f5edcc4cf9741ceb8a13f634dc9a8b0",
       "value": "<p style='font-family: IBM Plex Sans, Arial, Helvetica, sans-serif; font-size: 20px; font-weight: medium;'>Circuit Properties</p>"
      }
     },
     "f3b85ed899a1493ba2e4e0e3d7c69e8f": {
      "model_module": "@jupyter-widgets/controls",
      "model_module_version": "1.5.0",
      "model_name": "HTMLModel",
      "state": {
       "layout": "IPY_MODEL_6a1a50bd69a34eb48c4d0ee6720aa006",
       "style": "IPY_MODEL_1ace8e3452204de290e5c396da81229b",
       "value": "<h5>Status</h5>"
      }
     },
     "f7c7011d8afc4102a59e3e27c866bdb0": {
      "model_module": "@jupyter-widgets/base",
      "model_module_version": "1.2.0",
      "model_name": "LayoutModel",
      "state": {
       "width": "70px"
      }
     }
    },
    "version_major": 2,
    "version_minor": 0
   }
  }
 },
 "nbformat": 4,
 "nbformat_minor": 5
}
