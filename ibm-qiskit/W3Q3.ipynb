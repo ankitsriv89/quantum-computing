{
 "cells": [
  {
   "cell_type": "code",
   "execution_count": 1,
   "id": "3dec6eca",
   "metadata": {},
   "outputs": [],
   "source": [
    "from qiskit import QuantumRegister, ClassicalRegister, QuantumCircuit,Aer,assemble\n",
    "from numpy import pi\n",
    "\n"
   ]
  },
  {
   "cell_type": "code",
   "execution_count": 2,
   "id": "b2993ac1",
   "metadata": {},
   "outputs": [
    {
     "data": {
      "text/html": [
       "<pre style=\"word-wrap: normal;white-space: pre;background: #fff0;line-height: 1.1;font-family: &quot;Courier New&quot;,Courier,monospace\">     ┌─────────────────┐┌───┐           ░ ┌───┐ ░ ┌─┐         \n",
       "q_0: ┤ Initialize(1,0) ├┤ H ├──■────────░─┤ H ├─░─┤M├─────────\n",
       "     ├─────────────────┤├───┤  │        ░ ├───┤ ░ └╥┘┌─┐      \n",
       "q_1: ┤ Initialize(1,0) ├┤ H ├──┼────────░─┤ H ├─░──╫─┤M├──────\n",
       "     ├─────────────────┤├───┤  │        ░ ├───┤ ░  ║ └╥┘┌─┐   \n",
       "q_2: ┤ Initialize(1,0) ├┤ H ├──┼────■───░─┤ H ├─░──╫──╫─┤M├───\n",
       "     ├─────────────────┤├───┤┌─┴─┐┌─┴─┐ ░ └───┘ ░  ║  ║ └╥┘┌─┐\n",
       "q_3: ┤ Initialize(0,1) ├┤ H ├┤ X ├┤ X ├─░───────░──╫──╫──╫─┤M├\n",
       "     └─────────────────┘└───┘└───┘└───┘ ░       ░  ║  ║  ║ └╥┘\n",
       "c: 4/══════════════════════════════════════════════╩══╩══╩══╩═\n",
       "                                                   0  1  2  3 </pre>"
      ],
      "text/plain": [
       "     ┌─────────────────┐┌───┐           ░ ┌───┐ ░ ┌─┐         \n",
       "q_0: ┤ Initialize(1,0) ├┤ H ├──■────────░─┤ H ├─░─┤M├─────────\n",
       "     ├─────────────────┤├───┤  │        ░ ├───┤ ░ └╥┘┌─┐      \n",
       "q_1: ┤ Initialize(1,0) ├┤ H ├──┼────────░─┤ H ├─░──╫─┤M├──────\n",
       "     ├─────────────────┤├───┤  │        ░ ├───┤ ░  ║ └╥┘┌─┐   \n",
       "q_2: ┤ Initialize(1,0) ├┤ H ├──┼────■───░─┤ H ├─░──╫──╫─┤M├───\n",
       "     ├─────────────────┤├───┤┌─┴─┐┌─┴─┐ ░ └───┘ ░  ║  ║ └╥┘┌─┐\n",
       "q_3: ┤ Initialize(0,1) ├┤ H ├┤ X ├┤ X ├─░───────░──╫──╫──╫─┤M├\n",
       "     └─────────────────┘└───┘└───┘└───┘ ░       ░  ║  ║  ║ └╥┘\n",
       "c: 4/══════════════════════════════════════════════╩══╩══╩══╩═\n",
       "                                                   0  1  2  3 "
      ]
     },
     "execution_count": 2,
     "metadata": {},
     "output_type": "execute_result"
    }
   ],
   "source": [
    "qreg_q = QuantumRegister(4, 'q')\n",
    "creg_c = ClassicalRegister(4, 'c')\n",
    "circuit = QuantumCircuit(qreg_q, creg_c)\n",
    "\n",
    "circuit.initialize([1,0],qreg_q[0])\n",
    "circuit.initialize([1,0],qreg_q[1])\n",
    "circuit.initialize([1,0],qreg_q[2])\n",
    "circuit.initialize([0,1], qreg_q[3])\n",
    "circuit.h(qreg_q[3])\n",
    "circuit.h(qreg_q[0])\n",
    "circuit.h(qreg_q[1])\n",
    "circuit.h(qreg_q[2])\n",
    "circuit.cx(qreg_q[0], qreg_q[3])\n",
    "\n",
    "\n",
    "circuit.cx(qreg_q[2], qreg_q[3])\n",
    "circuit.barrier(qreg_q[0], qreg_q[1], qreg_q[2], qreg_q[3])\n",
    "circuit.h(qreg_q[0])\n",
    "circuit.h(qreg_q[1])\n",
    "circuit.h(qreg_q[2])\n",
    "circuit.barrier(qreg_q[0], qreg_q[1], qreg_q[2], qreg_q[3])\n",
    "q0 = circuit.measure(qreg_q[0], creg_c[0])\n",
    "q1 = circuit.measure(qreg_q[1], creg_c[1])\n",
    "q2 = circuit.measure(qreg_q[2], creg_c[2])\n",
    "\n",
    "circuit.measure(qreg_q[3], creg_c[3])\n",
    "circuit.draw()"
   ]
  },
  {
   "cell_type": "code",
   "execution_count": 3,
   "id": "2ad0e11f",
   "metadata": {},
   "outputs": [
    {
     "name": "stdout",
     "output_type": "stream",
     "text": [
      "[ 0.+0.j  0.+0.j  0.+0.j  0.+0.j  0.+0.j  1.-0.j -0.+0.j  0.+0.j  0.+0.j\n",
      "  0.+0.j  0.+0.j  0.+0.j  0.+0.j -0.+0.j  0.+0.j  0.+0.j]\n"
     ]
    }
   ],
   "source": [
    "backend = Aer.get_backend('statevector_simulator')\n",
    "job = backend.run(circuit)\n",
    "result = job.result()\n",
    "outputstate = result.get_statevector(circuit, decimals=3)\n",
    "print(outputstate)"
   ]
  },
  {
   "cell_type": "code",
   "execution_count": 4,
   "id": "d7523919",
   "metadata": {},
   "outputs": [],
   "source": [
    "sv_sim = Aer.get_backend('aer_simulator')"
   ]
  },
  {
   "cell_type": "code",
   "execution_count": 5,
   "id": "c5a7a14c",
   "metadata": {},
   "outputs": [
    {
     "data": {
      "text/plain": [
       "array([ 0.+0.000000e+00j,  0.+0.000000e+00j,  0.+0.000000e+00j,\n",
       "        0.+0.000000e+00j,  0.+0.000000e+00j,  0.+0.000000e+00j,\n",
       "       -0.+0.000000e+00j,  0.+0.000000e+00j,  0.+0.000000e+00j,\n",
       "        0.+0.000000e+00j,  0.+0.000000e+00j,  0.+0.000000e+00j,\n",
       "        0.+0.000000e+00j, -1.+3.061617e-16j,  0.+0.000000e+00j,\n",
       "        0.+0.000000e+00j])"
      ]
     },
     "execution_count": 5,
     "metadata": {},
     "output_type": "execute_result"
    }
   ],
   "source": [
    "circuit.save_statevector()\n",
    "qobj = assemble(circuit)\n",
    "job2 = sv_sim.run(qobj)\n",
    "ket = job2.result().get_statevector()\n",
    "ket"
   ]
  },
  {
   "cell_type": "code",
   "execution_count": 6,
   "id": "4217a1dc",
   "metadata": {},
   "outputs": [
    {
     "name": "stdout",
     "output_type": "stream",
     "text": [
      "0j\n",
      "0j\n",
      "0j\n",
      "0j\n",
      "0j\n",
      "0j\n",
      "(-0+0j)\n",
      "0j\n",
      "0j\n",
      "0j\n",
      "0j\n",
      "0j\n",
      "0j\n",
      "(-1+3.061616997868384e-16j)\n",
      "0j\n",
      "0j\n"
     ]
    }
   ],
   "source": [
    "for amplitude in ket:\n",
    "    print(amplitude)"
   ]
  },
  {
   "cell_type": "code",
   "execution_count": 7,
   "id": "73d5e2b4",
   "metadata": {},
   "outputs": [
    {
     "name": "stdout",
     "output_type": "stream",
     "text": [
      "{'0101': 502, '1101': 522}\n"
     ]
    }
   ],
   "source": [
    "hist = job2.result().get_counts()\n",
    "print(hist)"
   ]
  },
  {
   "cell_type": "code",
   "execution_count": 8,
   "id": "811f66b8",
   "metadata": {},
   "outputs": [
    {
     "data": {
      "image/png": "[encoded data removed]",
      "text/plain": [
       "<Figure size 504x360 with 1 Axes>"
      ]
     },
     "execution_count": 8,
     "metadata": {},
     "output_type": "execute_result"
    },
    {
     "data": {
      "image/png": "[encoded data removed]",
      "text/plain": [
       "<Figure size 504x360 with 1 Axes>"
      ]
     },
     "metadata": {
      "needs_background": "light"
     },
     "output_type": "display_data"
    }
   ],
   "source": [
    "from qiskit.visualization import plot_histogram\n",
    "\n",
    "plot_histogram(hist)"
   ]
  },
  {
   "cell_type": "code",
   "execution_count": 14,
   "id": "7fb42e02",
   "metadata": {},
   "outputs": [
    {
     "ename": "NameError",
     "evalue": "name 'provider' is not defined",
     "output_type": "error",
     "traceback": [
      "\u001b[1;31m---------------------------------------------------------------------------\u001b[0m",
      "\u001b[1;31mNameError\u001b[0m                                 Traceback (most recent call last)",
      "\u001b[1;32m~\\AppData\\Local\\Temp/ipykernel_2020/3549353574.py\u001b[0m in \u001b[0;36m<module>\u001b[1;34m\u001b[0m\n\u001b[1;32m----> 1\u001b[1;33m \u001b[0mbackend3\u001b[0m \u001b[1;33m=\u001b[0m \u001b[0mprovider\u001b[0m\u001b[1;33m.\u001b[0m\u001b[0mget_backend\u001b[0m\u001b[1;33m(\u001b[0m\u001b[1;34m'ibmq_belem'\u001b[0m\u001b[1;33m)\u001b[0m\u001b[1;33m\u001b[0m\u001b[1;33m\u001b[0m\u001b[0m\n\u001b[0m",
      "\u001b[1;31mNameError\u001b[0m: name 'provider' is not defined"
     ]
    }
   ],
   "source": [
    "backend3 = provider.get_backend('ibmq_belem')"
   ]
  },
  {
   "cell_type": "code",
   "execution_count": null,
   "id": "4bc6ee57",
   "metadata": {},
   "outputs": [],
   "source": []
  }
 ],
 "metadata": {
  "kernelspec": {
   "display_name": "Python 3 (ipykernel)",
   "language": "python",
   "name": "python3"
  },
  "language_info": {
   "codemirror_mode": {
    "name": "ipython",
    "version": 3
   },
   "file_extension": ".py",
   "mimetype": "text/x-python",
   "name": "python",
   "nbconvert_exporter": "python",
   "pygments_lexer": "ipython3",
   "version": "3.7.11"
  }
 },
 "nbformat": 4,
 "nbformat_minor": 5
}
