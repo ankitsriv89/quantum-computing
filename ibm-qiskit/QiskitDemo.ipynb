{
 "cells": [
  {
   "cell_type": "code",
   "execution_count": 1,
   "id": "9d9cc925",
   "metadata": {},
   "outputs": [],
   "source": [
    "from qiskit import QuantumCircuit,QuantumRegister"
   ]
  },
  {
   "cell_type": "code",
   "execution_count": 2,
   "id": "87dcef2c",
   "metadata": {},
   "outputs": [],
   "source": [
    "qc = QuantumCircuit()"
   ]
  },
  {
   "cell_type": "code",
   "execution_count": 3,
   "id": "80167d91",
   "metadata": {},
   "outputs": [],
   "source": [
    "qr = QuantumRegister(2,'a')"
   ]
  },
  {
   "cell_type": "code",
   "execution_count": 4,
   "id": "8e3eea57",
   "metadata": {},
   "outputs": [
    {
     "data": {
      "text/plain": [
       "QuantumRegister(2, 'a')"
      ]
     },
     "execution_count": 4,
     "metadata": {},
     "output_type": "execute_result"
    }
   ],
   "source": [
    "qr "
   ]
  },
  {
   "cell_type": "code",
   "execution_count": 5,
   "id": "6c1dec04",
   "metadata": {},
   "outputs": [
    {
     "data": {
      "text/plain": [
       "[QuantumRegister(2, 'a')]"
      ]
     },
     "execution_count": 5,
     "metadata": {},
     "output_type": "execute_result"
    }
   ],
   "source": [
    "qc.add_register(qr)\n",
    "qc.qregs"
   ]
  },
  {
   "cell_type": "code",
   "execution_count": 6,
   "id": "262add0f",
   "metadata": {},
   "outputs": [
    {
     "data": {
      "text/html": [
       "<pre style=\"word-wrap: normal;white-space: pre;background: #fff0;line-height: 1.1;font-family: &quot;Courier New&quot;,Courier,monospace\">     \n",
       "a_0: \n",
       "     \n",
       "a_1: \n",
       "     </pre>"
      ],
      "text/plain": [
       "     \n",
       "a_0: \n",
       "     \n",
       "a_1: \n",
       "     "
      ]
     },
     "execution_count": 6,
     "metadata": {},
     "output_type": "execute_result"
    }
   ],
   "source": [
    "qc.draw()"
   ]
  },
  {
   "cell_type": "code",
   "execution_count": 7,
   "id": "50cc8c44",
   "metadata": {},
   "outputs": [
    {
     "data": {
      "text/plain": [
       "<qiskit.circuit.instructionset.InstructionSet at 0x24bef187648>"
      ]
     },
     "execution_count": 7,
     "metadata": {},
     "output_type": "execute_result"
    }
   ],
   "source": [
    "#add gates\n",
    "qc.h(qr[0])"
   ]
  },
  {
   "cell_type": "code",
   "execution_count": 8,
   "id": "384f3ac8",
   "metadata": {},
   "outputs": [],
   "source": [
    "#add a controlled-NOT using cx. This requires two arguments: control qubit, and then target qubit.\n",
    "qc.cx(qr[0], qr[1]);"
   ]
  },
  {
   "cell_type": "code",
   "execution_count": 9,
   "id": "837c891e",
   "metadata": {},
   "outputs": [
    {
     "data": {
      "text/html": [
       "<pre style=\"word-wrap: normal;white-space: pre;background: #fff0;line-height: 1.1;font-family: &quot;Courier New&quot;,Courier,monospace\">     ┌───┐     \n",
       "a_0: ┤ H ├──■──\n",
       "     └───┘┌─┴─┐\n",
       "a_1: ─────┤ X ├\n",
       "          └───┘</pre>"
      ],
      "text/plain": [
       "     ┌───┐     \n",
       "a_0: ┤ H ├──■──\n",
       "     └───┘┌─┴─┐\n",
       "a_1: ─────┤ X ├\n",
       "          └───┘"
      ]
     },
     "execution_count": 9,
     "metadata": {},
     "output_type": "execute_result"
    }
   ],
   "source": [
    "qc.draw()"
   ]
  },
  {
   "cell_type": "code",
   "execution_count": 10,
   "id": "d4c6483a",
   "metadata": {},
   "outputs": [],
   "source": [
    "from qiskit import Aer\n",
    "sv_sim = Aer.get_backend('aer_simulator')"
   ]
  },
  {
   "cell_type": "code",
   "execution_count": 11,
   "id": "d56fa439",
   "metadata": {},
   "outputs": [
    {
     "name": "stdout",
     "output_type": "stream",
     "text": [
      "aer_simulator\n",
      "aer_simulator_statevector\n",
      "aer_simulator_density_matrix\n",
      "aer_simulator_stabilizer\n",
      "aer_simulator_matrix_product_state\n",
      "aer_simulator_extended_stabilizer\n",
      "aer_simulator_unitary\n",
      "aer_simulator_superop\n",
      "qasm_simulator\n",
      "statevector_simulator\n",
      "unitary_simulator\n",
      "pulse_simulator\n"
     ]
    }
   ],
   "source": [
    "# list of all possible simulators in Aer\n",
    "for backend in Aer.backends():\n",
    "    print(backend)"
   ]
  },
  {
   "cell_type": "markdown",
   "id": "72788d5d",
   "metadata": {},
   "source": [
    "All of these simulators are 'local', meaning that they run on the\n",
    "machine on which Qiskit is installed. Using them on your own \n",
    "machine can be done without signing up to the IBMQ user agreement."
   ]
  },
  {
   "cell_type": "code",
   "execution_count": 12,
   "id": "4f8fa845",
   "metadata": {},
   "outputs": [],
   "source": [
    "from qiskit import assemble \n"
   ]
  },
  {
   "cell_type": "code",
   "execution_count": 13,
   "id": "c75bae1b",
   "metadata": {},
   "outputs": [],
   "source": [
    "qc.save_statevector()\n",
    "qobj = assemble(qc)\n"
   ]
  },
  {
   "cell_type": "code",
   "execution_count": 14,
   "id": "9cc507a2",
   "metadata": {},
   "outputs": [],
   "source": [
    "job = sv_sim.run(qobj)"
   ]
  },
  {
   "cell_type": "code",
   "execution_count": 15,
   "id": "c651215a",
   "metadata": {},
   "outputs": [],
   "source": [
    "ket = job.result().get_statevector()"
   ]
  },
  {
   "cell_type": "code",
   "execution_count": 16,
   "id": "0ad9bd86",
   "metadata": {},
   "outputs": [
    {
     "name": "stdout",
     "output_type": "stream",
     "text": [
      "(0.7071067811865476+0j)\n",
      "0j\n",
      "0j\n",
      "(0.7071067811865476+0j)\n"
     ]
    }
   ],
   "source": [
    "for amplitude in ket:\n",
    "    print(amplitude)"
   ]
  },
  {
   "cell_type": "markdown",
   "id": "223451da",
   "metadata": {},
   "source": [
    "This is the vector for a Bell state  "
   ]
  },
  {
   "cell_type": "code",
   "execution_count": 18,
   "id": "d10e32cf",
   "metadata": {},
   "outputs": [],
   "source": [
    "#initialize a circuit with an arbitrary pure state\n",
    "new_qc = QuantumCircuit(qr)\n",
    "new_qc.initialize(ket, qr);"
   ]
  },
  {
   "cell_type": "code",
   "execution_count": 19,
   "id": "24adec95",
   "metadata": {},
   "outputs": [],
   "source": [
    "#define a two bit classical register, in order to measure both of our two qubits\n",
    "from qiskit import ClassicalRegister\n",
    "cr = ClassicalRegister(2, 'creg')\n",
    "qc.add_register(cr)"
   ]
  },
  {
   "cell_type": "code",
   "execution_count": 20,
   "id": "680c193c",
   "metadata": {},
   "outputs": [
    {
     "data": {
      "text/html": [
       "<pre style=\"word-wrap: normal;white-space: pre;background: #fff0;line-height: 1.1;font-family: &quot;Courier New&quot;,Courier,monospace\">        ┌───┐      ░ ┌─┐   \n",
       "   a_0: ┤ H ├──■───░─┤M├───\n",
       "        └───┘┌─┴─┐ ░ └╥┘┌─┐\n",
       "   a_1: ─────┤ X ├─░──╫─┤M├\n",
       "             └───┘ ░  ║ └╥┘\n",
       "creg: 2/══════════════╩══╩═\n",
       "                      0  1 </pre>"
      ],
      "text/plain": [
       "        ┌───┐      ░ ┌─┐   \n",
       "   a_0: ┤ H ├──■───░─┤M├───\n",
       "        └───┘┌─┴─┐ ░ └╥┘┌─┐\n",
       "   a_1: ─────┤ X ├─░──╫─┤M├\n",
       "             └───┘ ░  ║ └╥┘\n",
       "creg: 2/══════════════╩══╩═\n",
       "                      0  1 "
      ]
     },
     "execution_count": 20,
     "metadata": {},
     "output_type": "execute_result"
    }
   ],
   "source": [
    "qc.measure(qr[0], cr[0])\n",
    "qc.measure(qr[1], cr[1])\n",
    "\n",
    "qc.draw()"
   ]
  },
  {
   "cell_type": "code",
   "execution_count": 21,
   "id": "9d2612c7",
   "metadata": {},
   "outputs": [],
   "source": [
    "aer_sim = Aer.get_backend('aer_simulator')\n",
    "qobj = assemble(qc, shots=8192)\n",
    "job = aer_sim.run(qobj)"
   ]
  },
  {
   "cell_type": "code",
   "execution_count": 22,
   "id": "93880edc",
   "metadata": {},
   "outputs": [
    {
     "name": "stdout",
     "output_type": "stream",
     "text": [
      "{'00': 4105, '11': 4087}\n"
     ]
    }
   ],
   "source": [
    "hist = job.result().get_counts()\n",
    "print(hist)"
   ]
  },
  {
   "cell_type": "code",
   "execution_count": 24,
   "id": "d89d09fc",
   "metadata": {},
   "outputs": [
    {
     "data": {
      "image/png": "[encoded data removed]",
      "text/plain": [
       "<Figure size 504x360 with 1 Axes>"
      ]
     },
     "execution_count": 24,
     "metadata": {},
     "output_type": "execute_result"
    },
    {
     "data": {
      "image/png": "[encoded data removed]",
      "text/plain": [
       "<Figure size 504x360 with 1 Axes>"
      ]
     },
     "metadata": {
      "needs_background": "light"
     },
     "output_type": "display_data"
    }
   ],
   "source": [
    "from qiskit.visualization import plot_histogram\n",
    "\n",
    "plot_histogram(hist)"
   ]
  },
  {
   "cell_type": "code",
   "execution_count": 25,
   "id": "4458feeb",
   "metadata": {},
   "outputs": [
    {
     "name": "stdout",
     "output_type": "stream",
     "text": [
      "['00', '11', '00', '00', '00', '00', '11', '00', '00', '00']\n"
     ]
    }
   ],
   "source": [
    "qobj = assemble(qc, shots=10)\n",
    "job = aer_sim.run(qobj, memory=True)\n",
    "samples = job.result().get_memory()\n",
    "print(samples)"
   ]
  },
  {
   "cell_type": "code",
   "execution_count": 26,
   "id": "b2b788df",
   "metadata": {},
   "outputs": [
    {
     "data": {
      "text/plain": [
       "{'10000000': 8192}"
      ]
     },
     "execution_count": 26,
     "metadata": {},
     "output_type": "execute_result"
    }
   ],
   "source": [
    "qubit = QuantumRegister(8)\n",
    "bit = ClassicalRegister(8)\n",
    "qc_2 = QuantumCircuit(qubit,bit)\n",
    "\n",
    "qc_2.x(qubit[7])\n",
    "qc_2.measure(qubit,bit) # this is a way to do all the qc.measure(qr8[j],cr8[j]) at once\n",
    "\n",
    "qobj = assemble(qc_2, shots=8192)\n",
    "aer_sim.run(qobj).result().get_counts()"
   ]
  },
  {
   "cell_type": "code",
   "execution_count": 27,
   "id": "8d82eb5e",
   "metadata": {},
   "outputs": [],
   "source": [
    "#Creating custom gates"
   ]
  },
  {
   "cell_type": "code",
   "execution_count": 29,
   "id": "65f60a0a",
   "metadata": {},
   "outputs": [
    {
     "data": {
      "text/html": [
       "<pre style=\"word-wrap: normal;white-space: pre;background: #fff0;line-height: 1.1;font-family: &quot;Courier New&quot;,Courier,monospace\">                         \n",
       "q_0: ──■─────────■───────\n",
       "     ┌─┴─┐     ┌─┴─┐     \n",
       "q_1: ┤ X ├──■──┤ X ├──■──\n",
       "     └───┘┌─┴─┐└───┘┌─┴─┐\n",
       "q_2: ─────┤ X ├─────┤ X ├\n",
       "          └───┘     └───┘</pre>"
      ],
      "text/plain": [
       "                         \n",
       "q_0: ──■─────────■───────\n",
       "     ┌─┴─┐     ┌─┴─┐     \n",
       "q_1: ┤ X ├──■──┤ X ├──■──\n",
       "     └───┘┌─┴─┐└───┘┌─┴─┐\n",
       "q_2: ─────┤ X ├─────┤ X ├\n",
       "          └───┘     └───┘"
      ]
     },
     "execution_count": 29,
     "metadata": {},
     "output_type": "execute_result"
    }
   ],
   "source": [
    "sub_circuit = QuantumCircuit(3, name='toggle_cx')\n",
    "sub_circuit.cx(0,1)\n",
    "sub_circuit.cx(1,2)\n",
    "sub_circuit.cx(0,1)\n",
    "sub_circuit.cx(1,2)\n",
    "\n",
    "sub_circuit.draw()"
   ]
  },
  {
   "cell_type": "code",
   "execution_count": 30,
   "id": "4091c899",
   "metadata": {},
   "outputs": [],
   "source": [
    "toggle_cx = sub_circuit.to_instruction()"
   ]
  },
  {
   "cell_type": "code",
   "execution_count": 32,
   "id": "70948e69",
   "metadata": {},
   "outputs": [
    {
     "data": {
      "text/html": [
       "<pre style=\"word-wrap: normal;white-space: pre;background: #fff0;line-height: 1.1;font-family: &quot;Courier New&quot;,Courier,monospace\">                    \n",
       "q1_0: ──────────────\n",
       "      ┌────────────┐\n",
       "q1_1: ┤0           ├\n",
       "      │            │\n",
       "q1_2: ┤1 toggle_cx ├\n",
       "      │            │\n",
       "q1_3: ┤2           ├\n",
       "      └────────────┘</pre>"
      ],
      "text/plain": [
       "                    \n",
       "q1_0: ──────────────\n",
       "      ┌────────────┐\n",
       "q1_1: ┤0           ├\n",
       "      │            │\n",
       "q1_2: ┤1 toggle_cx ├\n",
       "      │            │\n",
       "q1_3: ┤2           ├\n",
       "      └────────────┘"
      ]
     },
     "execution_count": 32,
     "metadata": {},
     "output_type": "execute_result"
    }
   ],
   "source": [
    "qr = QuantumRegister(4)\n",
    "new_qc = QuantumCircuit(qr)\n",
    "\n",
    "new_qc.append(toggle_cx, [qr[1],qr[2],qr[3]])\n",
    "\n",
    "new_qc.draw()"
   ]
  },
  {
   "cell_type": "code",
   "execution_count": null,
   "id": "3a26da96",
   "metadata": {},
   "outputs": [],
   "source": []
  }
 ],
 "metadata": {
  "kernelspec": {
   "display_name": "Python 3 (ipykernel)",
   "language": "python",
   "name": "python3"
  },
  "language_info": {
   "codemirror_mode": {
    "name": "ipython",
    "version": 3
   },
   "file_extension": ".py",
   "mimetype": "text/x-python",
   "name": "python",
   "nbconvert_exporter": "python",
   "pygments_lexer": "ipython3",
   "version": "3.7.11"
  }
 },
 "nbformat": 4,
 "nbformat_minor": 5
}
