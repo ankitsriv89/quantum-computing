{
 "cells": [
  {
   "cell_type": "markdown",
   "id": "8d92f5ee",
   "metadata": {},
   "source": [
    "# Grover's search\n",
    "Author : Dhiraj Madan, Advisory Research Engineer, IBM Research India"
   ]
  },
  {
   "cell_type": "markdown",
   "id": "6f36d403",
   "metadata": {},
   "source": [
    " We will learn to implement Grover's search algorithm in this notebook. First lets import all the required libraries"
   ]
  },
  {
   "cell_type": "code",
   "execution_count": 1,
   "id": "61b2a088",
   "metadata": {},
   "outputs": [],
   "source": [
    "import numpy as np\n",
    "# Importing standard Qiskit libraries\n",
    "from qiskit import QuantumCircuit, transpile, Aer, IBMQ\n",
    "from qiskit.tools.jupyter import *\n",
    "from qiskit.visualization import *\n",
    "#from ibm_quantum_widgets import *\n",
    "\n",
    "# Loading your IBM Q account(s)\n",
    "#provider = IBMQ.load_account()"
   ]
  },
  {
   "cell_type": "code",
   "execution_count": 2,
   "id": "9058058a",
   "metadata": {},
   "outputs": [],
   "source": [
    "from qiskit import assemble\n",
    "import numpy as np\n",
    "import matplotlib.pyplot as plt"
   ]
  },
  {
   "cell_type": "markdown",
   "id": "d9cbf776",
   "metadata": {},
   "source": [
    "We will work with 4 qubit data registers. Here we will search for an element amongs 0 to 2^4 -1 =15\n",
    "We will create an ancilla qubit to store |->. This will be needed to provide a phase."
   ]
  },
  {
   "cell_type": "code",
   "execution_count": 3,
   "id": "cbd10b51",
   "metadata": {},
   "outputs": [],
   "source": [
    "n=4\n",
    "grover_ckt = QuantumCircuit(n+1, n)\n",
    "marked = [1,0,1,1] # 1101 element is marked (lsb to msb)=>13"
   ]
  },
  {
   "cell_type": "markdown",
   "id": "58bd508d",
   "metadata": {},
   "source": [
    "Here is our oracle function. For a given n (number of data qubits), an integer marked (the index of marked element) and a circuit,\n",
    "it applies the following oracle $U_{marked}|x>|y> =|x>|y \\oplus f(x)>$. \n",
    "\n",
    "Here f(x) = 1 if  x is the marked index and 0 otherwise.\n"
   ]
  },
  {
   "cell_type": "code",
   "execution_count": 4,
   "id": "3b44de1d",
   "metadata": {},
   "outputs": [],
   "source": [
    "def apply_oracle(n,marked,ckt):\n",
    "    control0 = [i for i in range(n) if not marked[i]]\n",
    "    ckt.x(control0)\n",
    "    ckt.mct(list(range(n)),n)\n",
    "    ckt.x(control0)\n",
    "    ckt.draw()\n",
    "    \n",
    "    "
   ]
  },
  {
   "cell_type": "markdown",
   "id": "63dc0e47",
   "metadata": {},
   "source": [
    "# Exercise 1\n",
    "You need to complete the function in the cell below to reflect about the unform superposition state. \n",
    " This should take a circuit object, and an integer n : The number of data qubits \n",
    " (excluding the ancilla qubit to store |-> state). The goal is to add operations to refect about the\n",
    " superposed state.\n",
    "As a step you need to be able to reflect about 0's. You will find the function mct helpful \n",
    "https://qiskit.org/documentation/stubs/qiskit.circuit.library.MCMT.html"
   ]
  },
  {
   "cell_type": "code",
   "execution_count": 6,
   "id": "8230c42d",
   "metadata": {},
   "outputs": [],
   "source": [
    "\n",
    "def reflect_uniform(ckt,n):\n",
    "    ckt.h(list(range(n)))\n",
    "    ckt.x(list(range(n)))\n",
    "    ckt.mct(list(range(n)), n) \n",
    "    ckt.x(list(range(n)))\n",
    "    ckt.h(list(range(n)))\n",
    "    ckt.x(n)\n"
   ]
  },
  {
   "cell_type": "markdown",
   "id": "d1fa65c1",
   "metadata": {},
   "source": [
    "Let's start building the circuit now. We start by create a superposition of all states i.e.\n",
    "$|\\psi> = \\frac{1}{\\sqrt{2^n}} \\sum_{x\\in \\{0,1\\}^n} |x>$. \n",
    "Note that the final qubit needs to be placed in state |-> as required.  "
   ]
  },
  {
   "cell_type": "code",
   "execution_count": 7,
   "id": "2f791e84",
   "metadata": {},
   "outputs": [
    {
     "data": {
      "text/plain": [
       "<qiskit.circuit.instructionset.InstructionSet at 0x2b3229e0748>"
      ]
     },
     "execution_count": 7,
     "metadata": {},
     "output_type": "execute_result"
    }
   ],
   "source": [
    "grover_ckt.x(n)\n",
    "grover_ckt.barrier()\n",
    "grover_ckt.h(list(range(n+1)))\n",
    "\n",
    "\n"
   ]
  },
  {
   "cell_type": "code",
   "execution_count": 8,
   "id": "e6a6be94",
   "metadata": {},
   "outputs": [
    {
     "data": {
      "text/html": [
       "<pre style=\"word-wrap: normal;white-space: pre;background: #fff0;line-height: 1.1;font-family: &quot;Courier New&quot;,Courier,monospace\">           ░ ┌───┐\n",
       "q_0: ──────░─┤ H ├\n",
       "           ░ ├───┤\n",
       "q_1: ──────░─┤ H ├\n",
       "           ░ ├───┤\n",
       "q_2: ──────░─┤ H ├\n",
       "           ░ ├───┤\n",
       "q_3: ──────░─┤ H ├\n",
       "     ┌───┐ ░ ├───┤\n",
       "q_4: ┤ X ├─░─┤ H ├\n",
       "     └───┘ ░ └───┘\n",
       "c: 4/═════════════\n",
       "                  </pre>"
      ],
      "text/plain": [
       "           ░ ┌───┐\n",
       "q_0: ──────░─┤ H ├\n",
       "           ░ ├───┤\n",
       "q_1: ──────░─┤ H ├\n",
       "           ░ ├───┤\n",
       "q_2: ──────░─┤ H ├\n",
       "           ░ ├───┤\n",
       "q_3: ──────░─┤ H ├\n",
       "     ┌───┐ ░ ├───┤\n",
       "q_4: ┤ X ├─░─┤ H ├\n",
       "     └───┘ ░ └───┘\n",
       "c: 4/═════════════\n",
       "                  "
      ]
     },
     "execution_count": 8,
     "metadata": {},
     "output_type": "execute_result"
    }
   ],
   "source": [
    "grover_ckt.draw()\n"
   ]
  },
  {
   "cell_type": "markdown",
   "id": "215be4a2",
   "metadata": {},
   "source": [
    "Let's run this circuit now. We will obtain the statevector and keep the first n qubits (leaving the |-> state ancilla qubit as is)."
   ]
  },
  {
   "cell_type": "code",
   "execution_count": 10,
   "id": "249c3930",
   "metadata": {},
   "outputs": [],
   "source": [
    "svsim = Aer.get_backend('statevector_simulator') # Tell Qiskit how to simulate our circuit\n",
    "qobj = assemble(grover_ckt)     # Create a Qobj from the circuit for the simulator to run\n",
    "result = svsim.run(qobj).result() # Do the simulation and return the result\n",
    "statevector = result.data()['statevector']\n",
    "statevector = statevector[:2**n]"
   ]
  },
  {
   "cell_type": "markdown",
   "id": "0d5a8b5c",
   "metadata": {},
   "source": [
    "Let's plot this state vector on a 2 d plane spanned by the marked element state |a> and the superposition of unmarked states |e>. "
   ]
  },
  {
   "cell_type": "code",
   "execution_count": 11,
   "id": "94403774",
   "metadata": {},
   "outputs": [],
   "source": [
    "marked = [1,0,1,1] # Corresponds to integer 1101 in binary => 13\n",
    "ket_a = np.zeros(2**n)\n",
    "ket_a[13] =1\n",
    "ket_e = (np.ones(2**n) - ket_a)/np.sqrt(2**n -1)\n",
    "\n"
   ]
  },
  {
   "cell_type": "code",
   "execution_count": 12,
   "id": "a39b30fd",
   "metadata": {},
   "outputs": [],
   "source": [
    "def get_projection(psi,e,a ):\n",
    "    proj =  [np.real(np.vdot(e,psi)), np.real(np.vdot(a,psi))]\n",
    "    return proj\n",
    "\n",
    "def plt_vector(proj, axes =[0.0,1.0,0.0,1.0]):\n",
    "    x_pos = 0\n",
    "    y_pos = 0\n",
    "    x_direct = proj[0]\n",
    "    y_direct = proj[1]\n",
    "\n",
    "    # Creating plot\n",
    "    fig, ax = plt.subplots()\n",
    "    ax.quiver(x_pos, y_pos, x_direct, y_direct,scale=1.0)\n",
    "\n",
    "    ax.axis(axes)\n",
    "\n",
    "    # show plot\n",
    "    plt.show()"
   ]
  },
  {
   "cell_type": "code",
   "execution_count": 13,
   "id": "d78e3ed9",
   "metadata": {},
   "outputs": [
    {
     "data": {
      "image/png": "[encoded data removed]",
      "text/plain": [
       "<Figure size 432x288 with 1 Axes>"
      ]
     },
     "metadata": {
      "needs_background": "light"
     },
     "output_type": "display_data"
    }
   ],
   "source": [
    "proj = get_projection(statevector, ket_e, ket_a)\n",
    "plt_vector(proj)"
   ]
  },
  {
   "cell_type": "markdown",
   "id": "af6b9297",
   "metadata": {},
   "source": [
    "Now lets add the phase oracle which reflects the state about |e>."
   ]
  },
  {
   "cell_type": "code",
   "execution_count": 14,
   "id": "a740059c",
   "metadata": {},
   "outputs": [
    {
     "data": {
      "text/plain": [
       "<qiskit.circuit.instructionset.InstructionSet at 0x2b321e7a288>"
      ]
     },
     "execution_count": 14,
     "metadata": {},
     "output_type": "execute_result"
    }
   ],
   "source": [
    "#grover_ckt.append(oracle, list(range(n+1)))\n",
    "apply_oracle(4,marked,grover_ckt)\n",
    "grover_ckt.barrier()"
   ]
  },
  {
   "cell_type": "markdown",
   "id": "a6b9b9f7",
   "metadata": {},
   "source": [
    "This is how the circuit looks now."
   ]
  },
  {
   "cell_type": "code",
   "execution_count": 15,
   "id": "be0c77c0",
   "metadata": {},
   "outputs": [
    {
     "data": {
      "text/html": [
       "<pre style=\"word-wrap: normal;white-space: pre;background: #fff0;line-height: 1.1;font-family: &quot;Courier New&quot;,Courier,monospace\">           ░ ┌───┐                ░ \n",
       "q_0: ──────░─┤ H ├───────■────────░─\n",
       "           ░ ├───┤┌───┐  │  ┌───┐ ░ \n",
       "q_1: ──────░─┤ H ├┤ X ├──■──┤ X ├─░─\n",
       "           ░ ├───┤└───┘  │  └───┘ ░ \n",
       "q_2: ──────░─┤ H ├───────■────────░─\n",
       "           ░ ├───┤       │        ░ \n",
       "q_3: ──────░─┤ H ├───────■────────░─\n",
       "     ┌───┐ ░ ├───┤     ┌─┴─┐      ░ \n",
       "q_4: ┤ X ├─░─┤ H ├─────┤ X ├──────░─\n",
       "     └───┘ ░ └───┘     └───┘      ░ \n",
       "c: 4/═══════════════════════════════\n",
       "                                    </pre>"
      ],
      "text/plain": [
       "           ░ ┌───┐                ░ \n",
       "q_0: ──────░─┤ H ├───────■────────░─\n",
       "           ░ ├───┤┌───┐  │  ┌───┐ ░ \n",
       "q_1: ──────░─┤ H ├┤ X ├──■──┤ X ├─░─\n",
       "           ░ ├───┤└───┘  │  └───┘ ░ \n",
       "q_2: ──────░─┤ H ├───────■────────░─\n",
       "           ░ ├───┤       │        ░ \n",
       "q_3: ──────░─┤ H ├───────■────────░─\n",
       "     ┌───┐ ░ ├───┤     ┌─┴─┐      ░ \n",
       "q_4: ┤ X ├─░─┤ H ├─────┤ X ├──────░─\n",
       "     └───┘ ░ └───┘     └───┘      ░ \n",
       "c: 4/═══════════════════════════════\n",
       "                                    "
      ]
     },
     "execution_count": 15,
     "metadata": {},
     "output_type": "execute_result"
    }
   ],
   "source": [
    "grover_ckt.draw()"
   ]
  },
  {
   "cell_type": "markdown",
   "id": "fa774115",
   "metadata": {},
   "source": [
    "Now we reflect about the unform state. We use the function you completed as part of the exercise. "
   ]
  },
  {
   "cell_type": "code",
   "execution_count": 16,
   "id": "ea69d229",
   "metadata": {},
   "outputs": [],
   "source": [
    "reflect_uniform(grover_ckt,n)"
   ]
  },
  {
   "cell_type": "code",
   "execution_count": 17,
   "id": "5386c615",
   "metadata": {},
   "outputs": [
    {
     "data": {
      "text/html": [
       "<pre style=\"word-wrap: normal;white-space: pre;background: #fff0;line-height: 1.1;font-family: &quot;Courier New&quot;,Courier,monospace\">           ░ ┌───┐                ░ ┌───┐┌───┐     ┌───┐┌───┐ ░ \n",
       "q_0: ──────░─┤ H ├───────■────────░─┤ H ├┤ X ├──■──┤ X ├┤ H ├─░─\n",
       "           ░ ├───┤┌───┐  │  ┌───┐ ░ ├───┤├───┤  │  ├───┤├───┤ ░ \n",
       "q_1: ──────░─┤ H ├┤ X ├──■──┤ X ├─░─┤ H ├┤ X ├──■──┤ X ├┤ H ├─░─\n",
       "           ░ ├───┤└───┘  │  └───┘ ░ ├───┤├───┤  │  ├───┤├───┤ ░ \n",
       "q_2: ──────░─┤ H ├───────■────────░─┤ H ├┤ X ├──■──┤ X ├┤ H ├─░─\n",
       "           ░ ├───┤       │        ░ ├───┤├───┤  │  ├───┤├───┤ ░ \n",
       "q_3: ──────░─┤ H ├───────■────────░─┤ H ├┤ X ├──■──┤ X ├┤ H ├─░─\n",
       "     ┌───┐ ░ ├───┤     ┌─┴─┐      ░ └───┘└───┘┌─┴─┐├───┤└───┘ ░ \n",
       "q_4: ┤ X ├─░─┤ H ├─────┤ X ├──────░───────────┤ X ├┤ X ├──────░─\n",
       "     └───┘ ░ └───┘     └───┘      ░           └───┘└───┘      ░ \n",
       "c: 4/═══════════════════════════════════════════════════════════\n",
       "                                                                </pre>"
      ],
      "text/plain": [
       "           ░ ┌───┐                ░ ┌───┐┌───┐     ┌───┐┌───┐ ░ \n",
       "q_0: ──────░─┤ H ├───────■────────░─┤ H ├┤ X ├──■──┤ X ├┤ H ├─░─\n",
       "           ░ ├───┤┌───┐  │  ┌───┐ ░ ├───┤├───┤  │  ├───┤├───┤ ░ \n",
       "q_1: ──────░─┤ H ├┤ X ├──■──┤ X ├─░─┤ H ├┤ X ├──■──┤ X ├┤ H ├─░─\n",
       "           ░ ├───┤└───┘  │  └───┘ ░ ├───┤├───┤  │  ├───┤├───┤ ░ \n",
       "q_2: ──────░─┤ H ├───────■────────░─┤ H ├┤ X ├──■──┤ X ├┤ H ├─░─\n",
       "           ░ ├───┤       │        ░ ├───┤├───┤  │  ├───┤├───┤ ░ \n",
       "q_3: ──────░─┤ H ├───────■────────░─┤ H ├┤ X ├──■──┤ X ├┤ H ├─░─\n",
       "     ┌───┐ ░ ├───┤     ┌─┴─┐      ░ └───┘└───┘┌─┴─┐├───┤└───┘ ░ \n",
       "q_4: ┤ X ├─░─┤ H ├─────┤ X ├──────░───────────┤ X ├┤ X ├──────░─\n",
       "     └───┘ ░ └───┘     └───┘      ░           └───┘└───┘      ░ \n",
       "c: 4/═══════════════════════════════════════════════════════════\n",
       "                                                                "
      ]
     },
     "execution_count": 17,
     "metadata": {},
     "output_type": "execute_result"
    }
   ],
   "source": [
    "grover_ckt.barrier()\n",
    "grover_ckt.draw()"
   ]
  },
  {
   "cell_type": "markdown",
   "id": "43966751",
   "metadata": {},
   "source": [
    "Now we run the circuit again and replot the state vector. Observe that it indeed gets rotate colckwise towards the marked state |a>"
   ]
  },
  {
   "cell_type": "code",
   "execution_count": 18,
   "id": "eb281fa7",
   "metadata": {},
   "outputs": [
    {
     "data": {
      "image/png": "[encoded data removed]",
      "text/plain": [
       "<Figure size 432x288 with 1 Axes>"
      ]
     },
     "metadata": {
      "needs_background": "light"
     },
     "output_type": "display_data"
    }
   ],
   "source": [
    "svsim = Aer.get_backend('statevector_simulator') # Tell Qiskit how to simulate our circuit\n",
    "qobj = assemble(grover_ckt)     # Create a Qobj from the circuit for the simulator to run\n",
    "result = svsim.run(qobj).result() # Do the simulation and return the result\n",
    "statevector = result.data()['statevector']\n",
    "\n",
    "statevector = statevector[:2**n]\n",
    "proj = get_projection(statevector, ket_e, ket_a)\n",
    "plt_vector(proj)"
   ]
  },
  {
   "cell_type": "markdown",
   "id": "b6f37944",
   "metadata": {},
   "source": [
    "Lets do another step of phase oracle followed by reflection about uniform."
   ]
  },
  {
   "cell_type": "code",
   "execution_count": 19,
   "id": "397c455d",
   "metadata": {},
   "outputs": [
    {
     "data": {
      "text/plain": [
       "<qiskit.circuit.instructionset.InstructionSet at 0x2b322caa4c8>"
      ]
     },
     "execution_count": 19,
     "metadata": {},
     "output_type": "execute_result"
    }
   ],
   "source": [
    "apply_oracle(4,marked,grover_ckt)\n",
    "\n",
    "grover_ckt.barrier()\n",
    "reflect_uniform(grover_ckt,n)\n",
    "grover_ckt.barrier()\n"
   ]
  },
  {
   "cell_type": "code",
   "execution_count": 20,
   "id": "d6249176",
   "metadata": {},
   "outputs": [
    {
     "data": {
      "text/html": [
       "<pre style=\"word-wrap: normal;white-space: pre;background: #fff0;line-height: 1.1;font-family: &quot;Courier New&quot;,Courier,monospace\">           ░ ┌───┐                ░ ┌───┐┌───┐     ┌───┐┌───┐ ░                »\n",
       "q_0: ──────░─┤ H ├───────■────────░─┤ H ├┤ X ├──■──┤ X ├┤ H ├─░────────■───────»\n",
       "           ░ ├───┤┌───┐  │  ┌───┐ ░ ├───┤├───┤  │  ├───┤├───┤ ░ ┌───┐  │  ┌───┐»\n",
       "q_1: ──────░─┤ H ├┤ X ├──■──┤ X ├─░─┤ H ├┤ X ├──■──┤ X ├┤ H ├─░─┤ X ├──■──┤ X ├»\n",
       "           ░ ├───┤└───┘  │  └───┘ ░ ├───┤├───┤  │  ├───┤├───┤ ░ └───┘  │  └───┘»\n",
       "q_2: ──────░─┤ H ├───────■────────░─┤ H ├┤ X ├──■──┤ X ├┤ H ├─░────────■───────»\n",
       "           ░ ├───┤       │        ░ ├───┤├───┤  │  ├───┤├───┤ ░        │       »\n",
       "q_3: ──────░─┤ H ├───────■────────░─┤ H ├┤ X ├──■──┤ X ├┤ H ├─░────────■───────»\n",
       "     ┌───┐ ░ ├───┤     ┌─┴─┐      ░ └───┘└───┘┌─┴─┐├───┤└───┘ ░      ┌─┴─┐     »\n",
       "q_4: ┤ X ├─░─┤ H ├─────┤ X ├──────░───────────┤ X ├┤ X ├──────░──────┤ X ├─────»\n",
       "     └───┘ ░ └───┘     └───┘      ░           └───┘└───┘      ░      └───┘     »\n",
       "c: 4/══════════════════════════════════════════════════════════════════════════»\n",
       "                                                                               »\n",
       "«      ░ ┌───┐┌───┐     ┌───┐┌───┐ ░ \n",
       "«q_0: ─░─┤ H ├┤ X ├──■──┤ X ├┤ H ├─░─\n",
       "«      ░ ├───┤├───┤  │  ├───┤├───┤ ░ \n",
       "«q_1: ─░─┤ H ├┤ X ├──■──┤ X ├┤ H ├─░─\n",
       "«      ░ ├───┤├───┤  │  ├───┤├───┤ ░ \n",
       "«q_2: ─░─┤ H ├┤ X ├──■──┤ X ├┤ H ├─░─\n",
       "«      ░ ├───┤├───┤  │  ├───┤├───┤ ░ \n",
       "«q_3: ─░─┤ H ├┤ X ├──■──┤ X ├┤ H ├─░─\n",
       "«      ░ └───┘└───┘┌─┴─┐├───┤└───┘ ░ \n",
       "«q_4: ─░───────────┤ X ├┤ X ├──────░─\n",
       "«      ░           └───┘└───┘      ░ \n",
       "«c: 4/═══════════════════════════════\n",
       "«                                    </pre>"
      ],
      "text/plain": [
       "           ░ ┌───┐                ░ ┌───┐┌───┐     ┌───┐┌───┐ ░                »\n",
       "q_0: ──────░─┤ H ├───────■────────░─┤ H ├┤ X ├──■──┤ X ├┤ H ├─░────────■───────»\n",
       "           ░ ├───┤┌───┐  │  ┌───┐ ░ ├───┤├───┤  │  ├───┤├───┤ ░ ┌───┐  │  ┌───┐»\n",
       "q_1: ──────░─┤ H ├┤ X ├──■──┤ X ├─░─┤ H ├┤ X ├──■──┤ X ├┤ H ├─░─┤ X ├──■──┤ X ├»\n",
       "           ░ ├───┤└───┘  │  └───┘ ░ ├───┤├───┤  │  ├───┤├───┤ ░ └───┘  │  └───┘»\n",
       "q_2: ──────░─┤ H ├───────■────────░─┤ H ├┤ X ├──■──┤ X ├┤ H ├─░────────■───────»\n",
       "           ░ ├───┤       │        ░ ├───┤├───┤  │  ├───┤├───┤ ░        │       »\n",
       "q_3: ──────░─┤ H ├───────■────────░─┤ H ├┤ X ├──■──┤ X ├┤ H ├─░────────■───────»\n",
       "     ┌───┐ ░ ├───┤     ┌─┴─┐      ░ └───┘└───┘┌─┴─┐├───┤└───┘ ░      ┌─┴─┐     »\n",
       "q_4: ┤ X ├─░─┤ H ├─────┤ X ├──────░───────────┤ X ├┤ X ├──────░──────┤ X ├─────»\n",
       "     └───┘ ░ └───┘     └───┘      ░           └───┘└───┘      ░      └───┘     »\n",
       "c: 4/══════════════════════════════════════════════════════════════════════════»\n",
       "                                                                               »\n",
       "«      ░ ┌───┐┌───┐     ┌───┐┌───┐ ░ \n",
       "«q_0: ─░─┤ H ├┤ X ├──■──┤ X ├┤ H ├─░─\n",
       "«      ░ ├───┤├───┤  │  ├───┤├───┤ ░ \n",
       "«q_1: ─░─┤ H ├┤ X ├──■──┤ X ├┤ H ├─░─\n",
       "«      ░ ├───┤├───┤  │  ├───┤├───┤ ░ \n",
       "«q_2: ─░─┤ H ├┤ X ├──■──┤ X ├┤ H ├─░─\n",
       "«      ░ ├───┤├───┤  │  ├───┤├───┤ ░ \n",
       "«q_3: ─░─┤ H ├┤ X ├──■──┤ X ├┤ H ├─░─\n",
       "«      ░ └───┘└───┘┌─┴─┐├───┤└───┘ ░ \n",
       "«q_4: ─░───────────┤ X ├┤ X ├──────░─\n",
       "«      ░           └───┘└───┘      ░ \n",
       "«c: 4/═══════════════════════════════\n",
       "«                                    "
      ]
     },
     "execution_count": 20,
     "metadata": {},
     "output_type": "execute_result"
    }
   ],
   "source": [
    "grover_ckt.draw()"
   ]
  },
  {
   "cell_type": "code",
   "execution_count": 21,
   "id": "c909d88c",
   "metadata": {},
   "outputs": [
    {
     "data": {
      "image/png": "[encoded data removed]",
      "text/plain": [
       "<Figure size 432x288 with 1 Axes>"
      ]
     },
     "metadata": {
      "needs_background": "light"
     },
     "output_type": "display_data"
    }
   ],
   "source": [
    "svsim = Aer.get_backend('statevector_simulator') # Tell Qiskit how to simulate our circuit\n",
    "qobj = assemble(grover_ckt)     # Create a Qobj from the circuit for the simulator to run\n",
    "result = svsim.run(qobj).result() # Do the simulation and return the result\n",
    "statevector = result.data()['statevector']\n",
    "\n",
    "statevector = statevector[:2**n]\n",
    "proj = get_projection(statevector, ket_e, ket_a)\n",
    "plt_vector(proj)"
   ]
  },
  {
   "cell_type": "markdown",
   "id": "2531fb90",
   "metadata": {},
   "source": [
    "We observe that it indeed rotates clockwise towards |a>. Lets see when we repeat the 2 steps again."
   ]
  },
  {
   "cell_type": "code",
   "execution_count": 22,
   "id": "4675d0de",
   "metadata": {},
   "outputs": [
    {
     "data": {
      "text/html": [
       "<pre style=\"word-wrap: normal;white-space: pre;background: #fff0;line-height: 1.1;font-family: &quot;Courier New&quot;,Courier,monospace\">           ░ ┌───┐                ░ ┌───┐┌───┐     ┌───┐┌───┐ ░                »\n",
       "q_0: ──────░─┤ H ├───────■────────░─┤ H ├┤ X ├──■──┤ X ├┤ H ├─░────────■───────»\n",
       "           ░ ├───┤┌───┐  │  ┌───┐ ░ ├───┤├───┤  │  ├───┤├───┤ ░ ┌───┐  │  ┌───┐»\n",
       "q_1: ──────░─┤ H ├┤ X ├──■──┤ X ├─░─┤ H ├┤ X ├──■──┤ X ├┤ H ├─░─┤ X ├──■──┤ X ├»\n",
       "           ░ ├───┤└───┘  │  └───┘ ░ ├───┤├───┤  │  ├───┤├───┤ ░ └───┘  │  └───┘»\n",
       "q_2: ──────░─┤ H ├───────■────────░─┤ H ├┤ X ├──■──┤ X ├┤ H ├─░────────■───────»\n",
       "           ░ ├───┤       │        ░ ├───┤├───┤  │  ├───┤├───┤ ░        │       »\n",
       "q_3: ──────░─┤ H ├───────■────────░─┤ H ├┤ X ├──■──┤ X ├┤ H ├─░────────■───────»\n",
       "     ┌───┐ ░ ├───┤     ┌─┴─┐      ░ └───┘└───┘┌─┴─┐├───┤└───┘ ░      ┌─┴─┐     »\n",
       "q_4: ┤ X ├─░─┤ H ├─────┤ X ├──────░───────────┤ X ├┤ X ├──────░──────┤ X ├─────»\n",
       "     └───┘ ░ └───┘     └───┘      ░           └───┘└───┘      ░      └───┘     »\n",
       "c: 4/══════════════════════════════════════════════════════════════════════════»\n",
       "                                                                               »\n",
       "«      ░ ┌───┐┌───┐     ┌───┐┌───┐ ░                 ░ ┌───┐┌───┐     ┌───┐»\n",
       "«q_0: ─░─┤ H ├┤ X ├──■──┤ X ├┤ H ├─░────────■────────░─┤ H ├┤ X ├──■──┤ X ├»\n",
       "«      ░ ├───┤├───┤  │  ├───┤├───┤ ░ ┌───┐  │  ┌───┐ ░ ├───┤├───┤  │  ├───┤»\n",
       "«q_1: ─░─┤ H ├┤ X ├──■──┤ X ├┤ H ├─░─┤ X ├──■──┤ X ├─░─┤ H ├┤ X ├──■──┤ X ├»\n",
       "«      ░ ├───┤├───┤  │  ├───┤├───┤ ░ └───┘  │  └───┘ ░ ├───┤├───┤  │  ├───┤»\n",
       "«q_2: ─░─┤ H ├┤ X ├──■──┤ X ├┤ H ├─░────────■────────░─┤ H ├┤ X ├──■──┤ X ├»\n",
       "«      ░ ├───┤├───┤  │  ├───┤├───┤ ░        │        ░ ├───┤├───┤  │  ├───┤»\n",
       "«q_3: ─░─┤ H ├┤ X ├──■──┤ X ├┤ H ├─░────────■────────░─┤ H ├┤ X ├──■──┤ X ├»\n",
       "«      ░ └───┘└───┘┌─┴─┐├───┤└───┘ ░      ┌─┴─┐      ░ └───┘└───┘┌─┴─┐├───┤»\n",
       "«q_4: ─░───────────┤ X ├┤ X ├──────░──────┤ X ├──────░───────────┤ X ├┤ X ├»\n",
       "«      ░           └───┘└───┘      ░      └───┘      ░           └───┘└───┘»\n",
       "«c: 4/═════════════════════════════════════════════════════════════════════»\n",
       "«                                                                          »\n",
       "«     ┌───┐ ░ \n",
       "«q_0: ┤ H ├─░─\n",
       "«     ├───┤ ░ \n",
       "«q_1: ┤ H ├─░─\n",
       "«     ├───┤ ░ \n",
       "«q_2: ┤ H ├─░─\n",
       "«     ├───┤ ░ \n",
       "«q_3: ┤ H ├─░─\n",
       "«     └───┘ ░ \n",
       "«q_4: ──────░─\n",
       "«           ░ \n",
       "«c: 4/════════\n",
       "«             </pre>"
      ],
      "text/plain": [
       "           ░ ┌───┐                ░ ┌───┐┌───┐     ┌───┐┌───┐ ░                »\n",
       "q_0: ──────░─┤ H ├───────■────────░─┤ H ├┤ X ├──■──┤ X ├┤ H ├─░────────■───────»\n",
       "           ░ ├───┤┌───┐  │  ┌───┐ ░ ├───┤├───┤  │  ├───┤├───┤ ░ ┌───┐  │  ┌───┐»\n",
       "q_1: ──────░─┤ H ├┤ X ├──■──┤ X ├─░─┤ H ├┤ X ├──■──┤ X ├┤ H ├─░─┤ X ├──■──┤ X ├»\n",
       "           ░ ├───┤└───┘  │  └───┘ ░ ├───┤├───┤  │  ├───┤├───┤ ░ └───┘  │  └───┘»\n",
       "q_2: ──────░─┤ H ├───────■────────░─┤ H ├┤ X ├──■──┤ X ├┤ H ├─░────────■───────»\n",
       "           ░ ├───┤       │        ░ ├───┤├───┤  │  ├───┤├───┤ ░        │       »\n",
       "q_3: ──────░─┤ H ├───────■────────░─┤ H ├┤ X ├──■──┤ X ├┤ H ├─░────────■───────»\n",
       "     ┌───┐ ░ ├───┤     ┌─┴─┐      ░ └───┘└───┘┌─┴─┐├───┤└───┘ ░      ┌─┴─┐     »\n",
       "q_4: ┤ X ├─░─┤ H ├─────┤ X ├──────░───────────┤ X ├┤ X ├──────░──────┤ X ├─────»\n",
       "     └───┘ ░ └───┘     └───┘      ░           └───┘└───┘      ░      └───┘     »\n",
       "c: 4/══════════════════════════════════════════════════════════════════════════»\n",
       "                                                                               »\n",
       "«      ░ ┌───┐┌───┐     ┌───┐┌───┐ ░                 ░ ┌───┐┌───┐     ┌───┐»\n",
       "«q_0: ─░─┤ H ├┤ X ├──■──┤ X ├┤ H ├─░────────■────────░─┤ H ├┤ X ├──■──┤ X ├»\n",
       "«      ░ ├───┤├───┤  │  ├───┤├───┤ ░ ┌───┐  │  ┌───┐ ░ ├───┤├───┤  │  ├───┤»\n",
       "«q_1: ─░─┤ H ├┤ X ├──■──┤ X ├┤ H ├─░─┤ X ├──■──┤ X ├─░─┤ H ├┤ X ├──■──┤ X ├»\n",
       "«      ░ ├───┤├───┤  │  ├───┤├───┤ ░ └───┘  │  └───┘ ░ ├───┤├───┤  │  ├───┤»\n",
       "«q_2: ─░─┤ H ├┤ X ├──■──┤ X ├┤ H ├─░────────■────────░─┤ H ├┤ X ├──■──┤ X ├»\n",
       "«      ░ ├───┤├───┤  │  ├───┤├───┤ ░        │        ░ ├───┤├───┤  │  ├───┤»\n",
       "«q_3: ─░─┤ H ├┤ X ├──■──┤ X ├┤ H ├─░────────■────────░─┤ H ├┤ X ├──■──┤ X ├»\n",
       "«      ░ └───┘└───┘┌─┴─┐├───┤└───┘ ░      ┌─┴─┐      ░ └───┘└───┘┌─┴─┐├───┤»\n",
       "«q_4: ─░───────────┤ X ├┤ X ├──────░──────┤ X ├──────░───────────┤ X ├┤ X ├»\n",
       "«      ░           └───┘└───┘      ░      └───┘      ░           └───┘└───┘»\n",
       "«c: 4/═════════════════════════════════════════════════════════════════════»\n",
       "«                                                                          »\n",
       "«     ┌───┐ ░ \n",
       "«q_0: ┤ H ├─░─\n",
       "«     ├───┤ ░ \n",
       "«q_1: ┤ H ├─░─\n",
       "«     ├───┤ ░ \n",
       "«q_2: ┤ H ├─░─\n",
       "«     ├───┤ ░ \n",
       "«q_3: ┤ H ├─░─\n",
       "«     └───┘ ░ \n",
       "«q_4: ──────░─\n",
       "«           ░ \n",
       "«c: 4/════════\n",
       "«             "
      ]
     },
     "execution_count": 22,
     "metadata": {},
     "output_type": "execute_result"
    }
   ],
   "source": [
    "apply_oracle(4,marked,grover_ckt)\n",
    "\n",
    "grover_ckt.barrier()\n",
    "reflect_uniform(grover_ckt,n)\n",
    "grover_ckt.barrier()\n",
    "grover_ckt.draw()\n"
   ]
  },
  {
   "cell_type": "code",
   "execution_count": 23,
   "id": "42aa8e40",
   "metadata": {},
   "outputs": [
    {
     "data": {
      "image/png": "[encoded data removed]",
      "text/plain": [
       "<Figure size 432x288 with 1 Axes>"
      ]
     },
     "metadata": {
      "needs_background": "light"
     },
     "output_type": "display_data"
    }
   ],
   "source": [
    "svsim = Aer.get_backend('statevector_simulator') # Tell Qiskit how to simulate our circuit\n",
    "qobj = assemble(grover_ckt)     # Create a Qobj from the circuit for the simulator to run\n",
    "result = svsim.run(qobj).result() # Do the simulation and return the result\n",
    "statevector = result.data()['statevector']\n",
    "\n",
    "statevector = statevector[:2**n]\n",
    "proj = get_projection(statevector, ket_e, ket_a)\n",
    "plt_vector(proj, axes = [-1.0,1.0,-1.0,1.0])"
   ]
  },
  {
   "cell_type": "markdown",
   "id": "e20c2025",
   "metadata": {},
   "source": [
    "Now we observe that statevector falls into the second quadrant. At this point further rotations will not help much."
   ]
  },
  {
   "cell_type": "markdown",
   "id": "a4b2c11c",
   "metadata": {},
   "source": [
    "# Exercise 2.1 \n",
    "Now we compute the theoretical number of rotations which maximize the angle keeping statevector in quadrant I. First compute the initial angle  $\\theta_0$. Store it in variable theta0."
   ]
  },
  {
   "cell_type": "code",
   "execution_count": 27,
   "id": "57b604ec",
   "metadata": {},
   "outputs": [
    {
     "data": {
      "text/plain": [
       "0.25268025514207865"
      ]
     },
     "execution_count": 27,
     "metadata": {},
     "output_type": "execute_result"
    }
   ],
   "source": [
    "theta0 = np.arcsin(1/(np.sqrt(16)))\n",
    "theta0"
   ]
  },
  {
   "cell_type": "markdown",
   "id": "f9a08c07",
   "metadata": {},
   "source": [
    "# Exercise 2.2\n",
    "Each rotation increases this by $2 \\theta_0$. After T rotations it is $(2T+1)\\theta_0$. You need to find the largest such integer T so that it remains in quadrant I. Store it in variable T ."
   ]
  },
  {
   "cell_type": "code",
   "execution_count": 28,
   "id": "ffd86b16",
   "metadata": {},
   "outputs": [
    {
     "data": {
      "text/plain": [
       "2.6082688394304085"
      ]
     },
     "execution_count": 28,
     "metadata": {},
     "output_type": "execute_result"
    }
   ],
   "source": [
    "T = 0.5*((np.pi/(2*theta0))-1)\n",
    "T"
   ]
  },
  {
   "cell_type": "markdown",
   "id": "91737671",
   "metadata": {},
   "source": [
    "Now to complete the story we create a new circuit and rotate preciely by number of times given bt T. "
   ]
  },
  {
   "cell_type": "code",
   "execution_count": null,
   "id": "d3b0abfc",
   "metadata": {},
   "outputs": [],
   "source": [
    "n=4\n",
    "grover_ckt = QuantumCircuit(n+1, n)\n",
    "marked = [1,0,1,1] # 1101 element is marked (lsb to msb)=>13\n",
    "grover_ckt.x(n)\n",
    "grover_ckt.barrier()\n",
    "grover_ckt.h(list(range(n+1)))\n",
    "grover_ckt.barrier()\n",
    "\n",
    "for _ in range(int(np.floor(T))):\n",
    "    apply_oracle(4,marked,grover_ckt)\n",
    "\n",
    "    grover_ckt.barrier()\n",
    "    reflect_uniform(grover_ckt,n)\n",
    "    grover_ckt.barrier()\n",
    "\n",
    "for j in range(n):\n",
    "    grover_ckt.measure(j,j)\n"
   ]
  },
  {
   "cell_type": "code",
   "execution_count": null,
   "id": "09e92526",
   "metadata": {},
   "outputs": [],
   "source": [
    "grover_ckt.draw()"
   ]
  },
  {
   "cell_type": "code",
   "execution_count": null,
   "id": "c9715727",
   "metadata": {},
   "outputs": [],
   "source": [
    "sim = Aer.get_backend('qasm_simulator') # Tell Qiskit how to simulate our circuit\n",
    "qobj = assemble(grover_ckt)     # Create a Qobj from the circuit for the simulator to run\n",
    "result = sim.run(qobj).result() # Do the simulation and return the result"
   ]
  },
  {
   "cell_type": "code",
   "execution_count": null,
   "id": "3a586260",
   "metadata": {},
   "outputs": [],
   "source": [
    "result"
   ]
  },
  {
   "cell_type": "code",
   "execution_count": null,
   "id": "ce1e8bcb",
   "metadata": {},
   "outputs": [],
   "source": [
    "counts = result.get_counts(grover_ckt)\n"
   ]
  },
  {
   "cell_type": "code",
   "execution_count": null,
   "id": "f90d828e",
   "metadata": {},
   "outputs": [],
   "source": [
    "plot_histogram(counts)\n"
   ]
  },
  {
   "cell_type": "markdown",
   "id": "8f476c0a",
   "metadata": {},
   "source": [
    "# Concluding remarks and points to ponder\n",
    "We see that the above plot has highest measured probability for marked index i.e. 13 ( or 1101).\n",
    "This completes the implementation of Grover's search for a single marked element. Here are a few more points to ponder about for future :-\n",
    "1. What happens when there are more than 1 marked elements. How will the algorithm change. What is the initial angle and rotation in each step.\n",
    "2. What if you dont know the number of marked elements. What will be the modfications needed ?"
   ]
  },
  {
   "cell_type": "markdown",
   "id": "56db89fb",
   "metadata": {},
   "source": [
    "# References \n",
    "1. L. K. Grover (1996), \"A fast quantum mechanical algorithm for database search\", Proceedings of the 28th Annual ACM Symposium on the Theory of Computing (STOC 1996), doi:10.1145/237814.237866, arXiv:quant-ph/9605043\n",
    "\n",
    "1. I. Chuang & M. Nielsen, \"Quantum Computation and Quantum Information\", Cambridge: Cambridge University Press, 2000.\n",
    "\n",
    "1. Qiskit Textbook : https://qiskit.org/textbook/ch-algorithms/grover.html\n"
   ]
  },
  {
   "cell_type": "code",
   "execution_count": null,
   "id": "faabc99d",
   "metadata": {},
   "outputs": [],
   "source": []
  }
 ],
 "metadata": {
  "kernelspec": {
   "display_name": "Python 3 (ipykernel)",
   "language": "python",
   "name": "python3"
  },
  "language_info": {
   "codemirror_mode": {
    "name": "ipython",
    "version": 3
   },
   "file_extension": ".py",
   "mimetype": "text/x-python",
   "name": "python",
   "nbconvert_exporter": "python",
   "pygments_lexer": "ipython3",
   "version": "3.7.11"
  }
 },
 "nbformat": 4,
 "nbformat_minor": 5
}
