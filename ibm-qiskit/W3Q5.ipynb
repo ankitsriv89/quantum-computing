{
 "cells": [
  {
   "cell_type": "code",
   "execution_count": 1,
   "id": "40728f57",
   "metadata": {},
   "outputs": [],
   "source": [
    "import numpy as np\n",
    "\n",
    "# Importing standard Qiskit libraries\n",
    "from qiskit import QuantumCircuit, transpile, Aer, IBMQ\n",
    "\n",
    "from qiskit.providers.aer import QasmSimulator\n",
    "from qiskit import QuantumRegister, ClassicalRegister, assemble, transpile\n",
    "from qiskit.providers.aer import AerSimulator\n",
    "\n",
    "from numpy import pi"
   ]
  },
  {
   "cell_type": "code",
   "execution_count": 20,
   "id": "61e78edb",
   "metadata": {},
   "outputs": [
    {
     "data": {
      "text/html": [
       "<pre style=\"word-wrap: normal;white-space: pre;background: #fff0;line-height: 1.1;font-family: &quot;Courier New&quot;,Courier,monospace\">     ┌─────────────────┐┌───┐                ░ ┌───┐ ░ ┌───┐ ░ ┌─┐            »\n",
       "q_0: ┤ Initialize(1,0) ├┤ H ├───────■────────░─┤ X ├─░─┤ H ├─░─┤M├────────────»\n",
       "     ├─────────────────┤├───┤       │        ░ └───┘ ░ ├───┤ ░ └╥┘┌─┐         »\n",
       "q_1: ┤ Initialize(1,0) ├┤ H ├───────┼────────░───────░─┤ H ├─░──╫─┤M├─────────»\n",
       "     ├─────────────────┤├───┤┌───┐  │        ░       ░ ├───┤ ░  ║ └╥┘┌─┐      »\n",
       "q_2: ┤ Initialize(1,0) ├┤ H ├┤ X ├──┼────────░───────░─┤ H ├─░──╫──╫─┤M├──────»\n",
       "     ├─────────────────┤├───┤└───┘  │  ┌───┐ ░       ░ ├───┤ ░  ║  ║ └╥┘┌─┐   »\n",
       "q_3: ┤ Initialize(1,0) ├┤ H ├──■────┼──┤ X ├─░───■───░─┤ H ├─░──╫──╫──╫─┤M├───»\n",
       "     ├─────────────────┤├───┤  │    │  └───┘ ░   │   ░ ├───┤ ░  ║  ║  ║ └╥┘┌─┐»\n",
       "q_4: ┤ Initialize(1,0) ├┤ H ├──┼────┼────────░───┼───░─┤ H ├─░──╫──╫──╫──╫─┤M├»\n",
       "     ├─────────────────┤├───┤  │    │        ░   │   ░ ├───┤ ░  ║  ║  ║  ║ └╥┘»\n",
       "q_5: ┤ Initialize(1,0) ├┤ H ├──┼────┼────■───░───┼───░─┤ H ├─░──╫──╫──╫──╫──╫─»\n",
       "     ├─────────────────┤├───┤┌─┴─┐┌─┴─┐┌─┴─┐ ░ ┌─┴─┐ ░ ├───┤ ░  ║  ║  ║  ║  ║ »\n",
       "q_6: ┤ Initialize(0,1) ├┤ H ├┤ X ├┤ X ├┤ X ├─░─┤ X ├─░─┤ H ├─░──╫──╫──╫──╫──╫─»\n",
       "     └─────────────────┘└───┘└───┘└───┘└───┘ ░ └───┘ ░ └───┘ ░  ║  ║  ║  ║  ║ »\n",
       "c: 7/═══════════════════════════════════════════════════════════╩══╩══╩══╩══╩═»\n",
       "                                                                0  1  2  3  4 »\n",
       "«           \n",
       "«q_0: ──────\n",
       "«           \n",
       "«q_1: ──────\n",
       "«           \n",
       "«q_2: ──────\n",
       "«           \n",
       "«q_3: ──────\n",
       "«           \n",
       "«q_4: ──────\n",
       "«     ┌─┐   \n",
       "«q_5: ┤M├───\n",
       "«     └╥┘┌─┐\n",
       "«q_6: ─╫─┤M├\n",
       "«      ║ └╥┘\n",
       "«c: 7/═╩══╩═\n",
       "«      5  6 </pre>"
      ],
      "text/plain": [
       "     ┌─────────────────┐┌───┐                ░ ┌───┐ ░ ┌───┐ ░ ┌─┐            »\n",
       "q_0: ┤ Initialize(1,0) ├┤ H ├───────■────────░─┤ X ├─░─┤ H ├─░─┤M├────────────»\n",
       "     ├─────────────────┤├───┤       │        ░ └───┘ ░ ├───┤ ░ └╥┘┌─┐         »\n",
       "q_1: ┤ Initialize(1,0) ├┤ H ├───────┼────────░───────░─┤ H ├─░──╫─┤M├─────────»\n",
       "     ├─────────────────┤├───┤┌───┐  │        ░       ░ ├───┤ ░  ║ └╥┘┌─┐      »\n",
       "q_2: ┤ Initialize(1,0) ├┤ H ├┤ X ├──┼────────░───────░─┤ H ├─░──╫──╫─┤M├──────»\n",
       "     ├─────────────────┤├───┤└───┘  │  ┌───┐ ░       ░ ├───┤ ░  ║  ║ └╥┘┌─┐   »\n",
       "q_3: ┤ Initialize(1,0) ├┤ H ├──■────┼──┤ X ├─░───■───░─┤ H ├─░──╫──╫──╫─┤M├───»\n",
       "     ├─────────────────┤├───┤  │    │  └───┘ ░   │   ░ ├───┤ ░  ║  ║  ║ └╥┘┌─┐»\n",
       "q_4: ┤ Initialize(1,0) ├┤ H ├──┼────┼────────░───┼───░─┤ H ├─░──╫──╫──╫──╫─┤M├»\n",
       "     ├─────────────────┤├───┤  │    │        ░   │   ░ ├───┤ ░  ║  ║  ║  ║ └╥┘»\n",
       "q_5: ┤ Initialize(1,0) ├┤ H ├──┼────┼────■───░───┼───░─┤ H ├─░──╫──╫──╫──╫──╫─»\n",
       "     ├─────────────────┤├───┤┌─┴─┐┌─┴─┐┌─┴─┐ ░ ┌─┴─┐ ░ ├───┤ ░  ║  ║  ║  ║  ║ »\n",
       "q_6: ┤ Initialize(0,1) ├┤ H ├┤ X ├┤ X ├┤ X ├─░─┤ X ├─░─┤ H ├─░──╫──╫──╫──╫──╫─»\n",
       "     └─────────────────┘└───┘└───┘└───┘└───┘ ░ └───┘ ░ └───┘ ░  ║  ║  ║  ║  ║ »\n",
       "c: 7/═══════════════════════════════════════════════════════════╩══╩══╩══╩══╩═»\n",
       "                                                                0  1  2  3  4 »\n",
       "«           \n",
       "«q_0: ──────\n",
       "«           \n",
       "«q_1: ──────\n",
       "«           \n",
       "«q_2: ──────\n",
       "«           \n",
       "«q_3: ──────\n",
       "«           \n",
       "«q_4: ──────\n",
       "«     ┌─┐   \n",
       "«q_5: ┤M├───\n",
       "«     └╥┘┌─┐\n",
       "«q_6: ─╫─┤M├\n",
       "«      ║ └╥┘\n",
       "«c: 7/═╩══╩═\n",
       "«      5  6 "
      ]
     },
     "execution_count": 20,
     "metadata": {},
     "output_type": "execute_result"
    }
   ],
   "source": [
    "qreg_q = QuantumRegister(7, 'q')\n",
    "creg_c = ClassicalRegister(7, 'c')\n",
    "circuit = QuantumCircuit(qreg_q, creg_c)\n",
    "\n",
    "for i in range(0,6):\n",
    "    circuit.initialize([1,0],qreg_q[i])\n",
    "circuit.initialize([0,1],qreg_q[6])\n",
    "for i in range(0,7):\n",
    "    circuit.h(qreg_q[i])\n",
    "circuit.x(qreg_q[2]) \n",
    "circuit.cx(qreg_q[3],qreg_q[6])\n",
    "circuit.cx(qreg_q[0],qreg_q[6])\n",
    "circuit.x(qreg_q[3])\n",
    "circuit.cx(qreg_q[5], qreg_q[6])\n",
    "circuit.barrier(qreg_q[0],qreg_q[1],qreg_q[2],qreg_q[3],qreg_q[4],\n",
    "                qreg_q[5],qreg_q[6])\n",
    "circuit.x(qreg_q[0])\n",
    "circuit.cx(qreg_q[3], qreg_q[6])\n",
    "circuit.barrier(qreg_q[0],qreg_q[1],qreg_q[2],qreg_q[3],qreg_q[4],\n",
    "                qreg_q[5],qreg_q[6])\n",
    "for i in range(0,7):\n",
    "    circuit.h(qreg_q[i])\n",
    "    \n",
    "circuit.barrier(qreg_q[0],qreg_q[1],qreg_q[2],qreg_q[3],qreg_q[4],\n",
    "                qreg_q[5],qreg_q[6])\n",
    "for m in range(0,7):\n",
    "    circuit.measure(qreg_q[m],creg_c[m])\n",
    "circuit.draw()"
   ]
  },
  {
   "cell_type": "code",
   "execution_count": null,
   "id": "6d4c1697",
   "metadata": {},
   "outputs": [],
   "source": []
  }
 ],
 "metadata": {
  "kernelspec": {
   "display_name": "Python 3 (ipykernel)",
   "language": "python",
   "name": "python3"
  },
  "language_info": {
   "codemirror_mode": {
    "name": "ipython",
    "version": 3
   },
   "file_extension": ".py",
   "mimetype": "text/x-python",
   "name": "python",
   "nbconvert_exporter": "python",
   "pygments_lexer": "ipython3",
   "version": "3.7.11"
  }
 },
 "nbformat": 4,
 "nbformat_minor": 5
}
