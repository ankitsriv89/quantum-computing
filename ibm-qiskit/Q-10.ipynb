{
 "cells": [
  {
   "cell_type": "code",
   "execution_count": 1,
   "id": "a1c76a9d",
   "metadata": {},
   "outputs": [],
   "source": [
    "from qiskit import QuantumRegister, ClassicalRegister, QuantumCircuit, Aer\n",
    "from numpy import pi\n",
    "\n"
   ]
  },
  {
   "cell_type": "code",
   "execution_count": 2,
   "id": "6b1545f5",
   "metadata": {},
   "outputs": [
    {
     "data": {
      "text/html": [
       "<pre style=\"word-wrap: normal;white-space: pre;background: #fff0;line-height: 1.1;font-family: &quot;Courier New&quot;,Courier,monospace\">     ┌─────────────────┐┌───┐     ┌───┐\n",
       "q_0: ┤ Initialize(1,0) ├┤ X ├──■──┤ X ├\n",
       "     ├─────────────────┤└───┘┌─┴─┐└───┘\n",
       "q_1: ┤ Initialize(1,0) ├─────┤ X ├─────\n",
       "     └─────────────────┘     └───┘     </pre>"
      ],
      "text/plain": [
       "     ┌─────────────────┐┌───┐     ┌───┐\n",
       "q_0: ┤ Initialize(1,0) ├┤ X ├──■──┤ X ├\n",
       "     ├─────────────────┤└───┘┌─┴─┐└───┘\n",
       "q_1: ┤ Initialize(1,0) ├─────┤ X ├─────\n",
       "     └─────────────────┘     └───┘     "
      ]
     },
     "execution_count": 2,
     "metadata": {},
     "output_type": "execute_result"
    }
   ],
   "source": [
    "#circuit 1,1\n",
    "qreg_q = QuantumRegister(2, 'q')\n",
    "#creg_c = ClassicalRegister(2, 'c')\n",
    "\n",
    "circuit = QuantumCircuit(qreg_q)\n",
    "circuit.initialize([1,0], qreg_q[0])\n",
    "circuit.initialize([1,0], qreg_q[1])\n",
    "circuit.x(qreg_q[0])\n",
    "circuit.cx(qreg_q[0], qreg_q[1])\n",
    "circuit.x(qreg_q[0])\n",
    "\n",
    "\n",
    "\n",
    "circuit.draw()"
   ]
  },
  {
   "cell_type": "code",
   "execution_count": 3,
   "id": "6af268b6",
   "metadata": {},
   "outputs": [],
   "source": [
    "# Run the quantum circuit on a statevector simulator backend\n",
    "backend = Aer.get_backend('statevector_simulator')"
   ]
  },
  {
   "cell_type": "code",
   "execution_count": 5,
   "id": "4a8057f0",
   "metadata": {},
   "outputs": [
    {
     "name": "stdout",
     "output_type": "stream",
     "text": [
      "|0⟩|0⟩ : [0.+0.j 0.+0.j 1.+0.j 0.+0.j]\n"
     ]
    }
   ],
   "source": [
    "job = backend.run(circuit)\n",
    "result = job.result()\n",
    "outputstate = result.get_statevector(circuit, decimals=3)\n",
    "print(f\"|0⟩|0⟩ : {outputstate}\")"
   ]
  },
  {
   "cell_type": "code",
   "execution_count": null,
   "id": "0424e727",
   "metadata": {},
   "outputs": [],
   "source": []
  },
  {
   "cell_type": "code",
   "execution_count": 6,
   "id": "8912db12",
   "metadata": {},
   "outputs": [
    {
     "data": {
      "text/html": [
       "<pre style=\"word-wrap: normal;white-space: pre;background: #fff0;line-height: 1.1;font-family: &quot;Courier New&quot;,Courier,monospace\">     ┌─────────────────┐┌───┐     ┌───┐\n",
       "q_0: ┤ Initialize(1,0) ├┤ X ├──■──┤ X ├\n",
       "     ├─────────────────┤└───┘┌─┴─┐└───┘\n",
       "q_1: ┤ Initialize(0,1) ├─────┤ X ├─────\n",
       "     └─────────────────┘     └───┘     </pre>"
      ],
      "text/plain": [
       "     ┌─────────────────┐┌───┐     ┌───┐\n",
       "q_0: ┤ Initialize(1,0) ├┤ X ├──■──┤ X ├\n",
       "     ├─────────────────┤└───┘┌─┴─┐└───┘\n",
       "q_1: ┤ Initialize(0,1) ├─────┤ X ├─────\n",
       "     └─────────────────┘     └───┘     "
      ]
     },
     "execution_count": 6,
     "metadata": {},
     "output_type": "execute_result"
    }
   ],
   "source": [
    "\n",
    "qreg_q2 = QuantumRegister(2, 'q')\n",
    "#creg_c = ClassicalRegister(2, 'c')\n",
    "\n",
    "circuit2 = QuantumCircuit(qreg_q2)\n",
    "circuit2.initialize([1,0], qreg_q2[0])\n",
    "circuit2.initialize([0,1], qreg_q2[1])\n",
    "circuit2.x(qreg_q2[0])\n",
    "circuit2.cx(qreg_q2[0], qreg_q2[1])\n",
    "circuit2.x(qreg_q2[0])\n",
    "\n",
    "\n",
    "\n",
    "circuit2.draw()"
   ]
  },
  {
   "cell_type": "code",
   "execution_count": 7,
   "id": "741b614f",
   "metadata": {},
   "outputs": [
    {
     "name": "stdout",
     "output_type": "stream",
     "text": [
      "|0⟩|1⟩ [1.+0.j 0.+0.j 0.+0.j 0.+0.j]\n"
     ]
    }
   ],
   "source": [
    "# Run the quantum circuit on a statevector simulator backend\n",
    "backend2 = Aer.get_backend('statevector_simulator')\n",
    "job2 = backend2.run(circuit2)\n",
    "result2 = job2.result()\n",
    "outputstate2 = result2.get_statevector(circuit2, decimals=3)\n",
    "print(f\"|0⟩|1⟩ {outputstate2}\")"
   ]
  },
  {
   "cell_type": "code",
   "execution_count": null,
   "id": "74085092",
   "metadata": {},
   "outputs": [],
   "source": []
  },
  {
   "cell_type": "code",
   "execution_count": 8,
   "id": "cadffeda",
   "metadata": {},
   "outputs": [
    {
     "data": {
      "text/html": [
       "<pre style=\"word-wrap: normal;white-space: pre;background: #fff0;line-height: 1.1;font-family: &quot;Courier New&quot;,Courier,monospace\">     ┌─────────────────┐┌───┐     ┌───┐\n",
       "q_0: ┤ Initialize(0,1) ├┤ X ├──■──┤ X ├\n",
       "     ├─────────────────┤└───┘┌─┴─┐└───┘\n",
       "q_1: ┤ Initialize(1,0) ├─────┤ X ├─────\n",
       "     └─────────────────┘     └───┘     </pre>"
      ],
      "text/plain": [
       "     ┌─────────────────┐┌───┐     ┌───┐\n",
       "q_0: ┤ Initialize(0,1) ├┤ X ├──■──┤ X ├\n",
       "     ├─────────────────┤└───┘┌─┴─┐└───┘\n",
       "q_1: ┤ Initialize(1,0) ├─────┤ X ├─────\n",
       "     └─────────────────┘     └───┘     "
      ]
     },
     "execution_count": 8,
     "metadata": {},
     "output_type": "execute_result"
    }
   ],
   "source": [
    "qreg_q3 = QuantumRegister(2, 'q')\n",
    "#creg_c = ClassicalRegister(2, 'c')\n",
    "\n",
    "circuit3 = QuantumCircuit(qreg_q3)\n",
    "circuit3.initialize([0,1], qreg_q3[0])\n",
    "circuit3.initialize([1,0], qreg_q3[1])\n",
    "circuit3.x(qreg_q3[0])\n",
    "circuit3.cx(qreg_q3[0], qreg_q3[1])\n",
    "circuit3.x(qreg_q3[0])\n",
    "circuit3.draw()"
   ]
  },
  {
   "cell_type": "code",
   "execution_count": 9,
   "id": "da8de613",
   "metadata": {},
   "outputs": [
    {
     "name": "stdout",
     "output_type": "stream",
     "text": [
      "|1⟩|0⟩ [0.+0.j 1.+0.j 0.+0.j 0.+0.j]\n"
     ]
    }
   ],
   "source": [
    "backend3 = Aer.get_backend('statevector_simulator')\n",
    "job3 = backend3.run(circuit3)\n",
    "result3 = job3.result()\n",
    "outputstate3 = result3.get_statevector(circuit3, decimals=3)\n",
    "print(f\"|1⟩|0⟩ {outputstate3}\")"
   ]
  },
  {
   "cell_type": "code",
   "execution_count": null,
   "id": "3fbab0fe",
   "metadata": {},
   "outputs": [],
   "source": []
  },
  {
   "cell_type": "code",
   "execution_count": 12,
   "id": "beef7677",
   "metadata": {},
   "outputs": [
    {
     "data": {
      "text/html": [
       "<pre style=\"word-wrap: normal;white-space: pre;background: #fff0;line-height: 1.1;font-family: &quot;Courier New&quot;,Courier,monospace\">     ┌─────────────────┐┌───┐     ┌───┐\n",
       "q_0: ┤ Initialize(0,1) ├┤ X ├──■──┤ X ├\n",
       "     └─────────────────┘└───┘┌─┴─┐└───┘\n",
       "q_1: ────────────────────────┤ X ├─────\n",
       "                             └───┘     </pre>"
      ],
      "text/plain": [
       "     ┌─────────────────┐┌───┐     ┌───┐\n",
       "q_0: ┤ Initialize(0,1) ├┤ X ├──■──┤ X ├\n",
       "     └─────────────────┘└───┘┌─┴─┐└───┘\n",
       "q_1: ────────────────────────┤ X ├─────\n",
       "                             └───┘     "
      ]
     },
     "execution_count": 12,
     "metadata": {},
     "output_type": "execute_result"
    }
   ],
   "source": [
    "qreg_q4 = QuantumRegister(2, 'q')\n",
    "#creg_c = ClassicalRegister(2, 'c')\n",
    "\n",
    "circuit4 = QuantumCircuit(qreg_q4)\n",
    "circuit4.initialize([0,1], qreg_q4[0])\n",
    "#circuit4.initialize([0,1], qreg_q4[1])\n",
    "circuit4.x(qreg_q4[0])\n",
    "circuit4.cx(qreg_q4[0], qreg_q4[1])\n",
    "circuit4.x(qreg_q4[0])\n",
    "circuit4.draw()"
   ]
  },
  {
   "cell_type": "code",
   "execution_count": 13,
   "id": "f32ae49c",
   "metadata": {},
   "outputs": [
    {
     "name": "stdout",
     "output_type": "stream",
     "text": [
      "|1⟩|1⟩ [0.+0.j 1.+0.j 0.+0.j 0.+0.j]\n"
     ]
    }
   ],
   "source": [
    "backend4 = Aer.get_backend('statevector_simulator')\n",
    "job4 = backend4.run(circuit4)\n",
    "result4 = job4.result()\n",
    "outputstate4 = result4.get_statevector(circuit4, decimals=3)\n",
    "print(f\"|1⟩|1⟩ {outputstate4}\")"
   ]
  },
  {
   "cell_type": "code",
   "execution_count": null,
   "id": "8c86905a",
   "metadata": {},
   "outputs": [],
   "source": []
  }
 ],
 "metadata": {
  "kernelspec": {
   "display_name": "Python 3 (ipykernel)",
   "language": "python",
   "name": "python3"
  },
  "language_info": {
   "codemirror_mode": {
    "name": "ipython",
    "version": 3
   },
   "file_extension": ".py",
   "mimetype": "text/x-python",
   "name": "python",
   "nbconvert_exporter": "python",
   "pygments_lexer": "ipython3",
   "version": "3.7.11"
  }
 },
 "nbformat": 4,
 "nbformat_minor": 5
}
